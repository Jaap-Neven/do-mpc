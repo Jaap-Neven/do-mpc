{
 "cells": [
  {
   "cell_type": "markdown",
   "metadata": {},
   "source": [
    "# Approximate MPC with CSTR\n",
    "\n",
    "In this Jupyter Notebook we illustrate the example **Approximate MPC with CSTR**.\n",
    "\n",
    "**Open an interactive online Jupyter Notebook with this content on Binder:**\n",
    "\n",
    "[![Binder](https://mybinder.org/badge_logo.svg)]()\n",
    "\n",
    "The example is an extension of the CSTR example and therefore consists of the three modules **template_model.py**, which describes the system model, **template_mpc.py**, which defines the settings for the controller we want to approximate and **template_simulator.py**, which sets the parameters for the simulator.\n",
    "In the **main.py** we introduce the concept of the approximate MPC, for which we will generate training data, train on said data and finally do a closed-loop evaluation.\n",
    "\n",
    "In the following the different parts are presented. But first, we start by importing basic modules and **do-mpc**."
   ]
  },
  {
   "cell_type": "code",
   "execution_count": 4,
   "metadata": {
    "pycharm": {
     "is_executing": true
    }
   },
   "outputs": [
    {
     "ename": "SyntaxError",
     "evalue": "invalid syntax (2942922686.py, line 10)",
     "output_type": "error",
     "traceback": [
      "\u001B[1;36m  Cell \u001B[1;32mIn[4], line 10\u001B[1;36m\u001B[0m\n\u001B[1;33m    from ./././ import do_mpc\u001B[0m\n\u001B[1;37m          ^\u001B[0m\n\u001B[1;31mSyntaxError\u001B[0m\u001B[1;31m:\u001B[0m invalid syntax\n"
     ]
    }
   ],
   "source": [
    "from casadi.tools import *\n",
    "import sys\n",
    "import os\n",
    "\n",
    "# Add do_mpc to path. This is not necessary if it was installed via pip\n",
    "rel_do_mpc_path = os.path.join('..', '..','..')\n",
    "sys.path.append(rel_do_mpc_path)\n",
    "\n",
    "# Import do_mpc package:\n",
    "import do_mpc\n",
    "\n",
    "\n",
    "import matplotlib.pyplot as plt"
   ]
  },
  {
   "cell_type": "markdown",
   "metadata": {},
   "source": [
    "## Model"
   ]
  },
  {
   "cell_type": "markdown",
   "metadata": {},
   "source": [
    "In the following we will present the configuration, setup and connection between these blocks, starting with the `model`.\n",
    "The considered model of the CSTR is continuous and has 4 states and 2 control inputs.\n",
    "The model is initiated by:"
   ]
  },
  {
   "cell_type": "code",
   "execution_count": 2,
   "metadata": {},
   "outputs": [],
   "source": [
    "model_type = 'continuous' # either 'discrete' or 'continuous'\n",
    "model = do_mpc.model.Model(model_type)"
   ]
  },
  {
   "cell_type": "markdown",
   "metadata": {},
   "source": [
    "### States and control inputs\n",
    "\n",
    "The four states are concentration of reactant A ($C_{\\text{A}}$), the concentration of reactant B ($C_{\\text{B}}$), the temperature inside the reactor ($T_{\\text{R}}$) and the temperature of the cooling jacket ($T_{\\text{K}}$):"
   ]
  },
  {
   "cell_type": "code",
   "execution_count": 3,
   "metadata": {},
   "outputs": [],
   "source": [
    "# States struct (optimization variables):\n",
    "C_a = model.set_variable(var_type='_x', var_name='C_a', shape=(1,1))\n",
    "C_b = model.set_variable(var_type='_x', var_name='C_b', shape=(1,1))\n",
    "T_R = model.set_variable(var_type='_x', var_name='T_R', shape=(1,1))\n",
    "T_K = model.set_variable(var_type='_x', var_name='T_K', shape=(1,1))"
   ]
  },
  {
   "cell_type": "markdown",
   "metadata": {},
   "source": [
    "The control inputs are the feed $F$ and the heat flow $\\dot{Q}$:"
   ]
  },
  {
   "cell_type": "code",
   "execution_count": 4,
   "metadata": {},
   "outputs": [],
   "source": [
    "# Input struct (optimization variables):\n",
    "F = model.set_variable(var_type='_u', var_name='F')\n",
    "Q_dot = model.set_variable(var_type='_u', var_name='Q_dot')"
   ]
  },
  {
   "cell_type": "markdown",
   "metadata": {},
   "source": [
    "### ODE and parameters\n",
    "\n",
    "The system model is described by the ordinary differential equation:\n",
    "\n",
    "\\begin{align}\n",
    "\\dot{C}_{\\text{A}} &= F \\cdot (C_{\\text{A},0} - C_{\\text{A}}) - k_1 \\cdot C_{\\text{A}} - k_3 \\cdot C_{\\text{A}}^2, \\\\\n",
    "\\dot{C}_{\\text{B}} &= -F \\cdot C_{\\text{B}} + k_1 \\cdot C_{\\text{A}} - k_2 \\cdot C_{\\text{B}}, \\\\\n",
    "\\dot{T}_{\\text{R}} &= \\frac{k_1 \\cdot C_{\\text{A}} \\cdot H_{\\text{R},ab} + k_2 \\cdot C_{\\text{B}} \\cdot  H_{\\text{R},bc} + k_3 \\cdot C_{\\text{A}}^2 \\cdot H_{\\text{R},ad}} {-\\rho \\cdot c_p}\\\\\n",
    "&+ F \\cdot (T_{\\text{in}} - T_{\\text{R}}) + \\frac{K_w \\cdot A_{\\text{R}} \\cdot(T_{\\text{K}}-T_{\\text{R}})}{\\rho \\cdot c_p \\cdot V_{\\text{R}}}, \\\\\n",
    "\\dot{T}_{\\text{K}} &= \\frac{\\dot{Q} + K_w \\cdot A_{\\text{R}} \\cdot T_{\\text{dif}}}{m_k \\cdot C_{p,k}},\n",
    "\\end{align}\n",
    "\n",
    "where\n",
    "\n",
    "\\begin{align}\n",
    "k_1 &= \\beta \\cdot k_{0,\\text{ab}} \\cdot \\exp\\left(\\frac{-E_{\\text{A},\\text{ab}}}{T_{\\text{R}}+273.15}\\right), \\\\\n",
    "k_2 &= k_{0,\\text{bc}} \\cdot \\exp \\left( \\frac{-E_{\\text{A},\\text{bc}}}{T_{\\text{R}}+273.15} \\right), \\\\\n",
    "k_3 &= k_{0,\\text{ad}} \\cdot \\exp \\left( \\frac{-\\alpha \\cdot E_{\\text{A},\\text{ad}}}{T_{\\text{R}}+273.15} \\right).\n",
    "\\end{align}"
   ]
  },
  {
   "cell_type": "code",
   "execution_count": 5,
   "metadata": {},
   "outputs": [],
   "source": [
    "# Certain parameters\n",
    "K0_ab = 1.287e12 # K0 [h^-1]\n",
    "K0_bc = 1.287e12 # K0 [h^-1]\n",
    "K0_ad = 9.043e9 # K0 [l/mol.h]\n",
    "R_gas = 8.3144621e-3 # Universal gas constant\n",
    "E_A_ab = 9758.3*1.00 #* R_gas# [kj/mol]\n",
    "E_A_bc = 9758.3*1.00 #* R_gas# [kj/mol]\n",
    "E_A_ad = 8560.0*1.0 #* R_gas# [kj/mol]\n",
    "H_R_ab = 4.2 # [kj/mol A]\n",
    "H_R_bc = -11.0 # [kj/mol B] Exothermic\n",
    "H_R_ad = -41.85 # [kj/mol A] Exothermic\n",
    "Rou = 0.9342 # Density [kg/l]\n",
    "Cp = 3.01 # Specific Heat capacity [kj/Kg.K]\n",
    "Cp_k = 2.0 # Coolant heat capacity [kj/kg.k]\n",
    "A_R = 0.215 # Area of reactor wall [m^2]\n",
    "V_R = 10.01 #0.01 # Volume of reactor [l]\n",
    "m_k = 5.0 # Coolant mass[kg]\n",
    "T_in = 130.0 # Temp of inflow [Celsius]\n",
    "K_w = 4032.0 # [kj/h.m^2.K]\n",
    "C_A0 = (5.7+4.5)/2.0*1.0 # Concentration of A in input Upper bound 5.7 lower bound 4.5 [mol/l]\n",
    "alpha=1\n",
    "beta=1\n"
   ]
  },
  {
   "cell_type": "markdown",
   "metadata": {},
   "source": [
    "In the next step, we formulate the $k_i$-s:"
   ]
  },
  {
   "cell_type": "code",
   "execution_count": 6,
   "metadata": {},
   "outputs": [],
   "source": [
    "# Auxiliary terms\n",
    "K_1 = beta * K0_ab * exp((-E_A_ab)/((T_R+273.15)))\n",
    "K_2 =  K0_bc * exp((-E_A_bc)/((T_R+273.15)))\n",
    "K_3 = K0_ad * exp((-alpha*E_A_ad)/((T_R+273.15)))"
   ]
  },
  {
   "cell_type": "markdown",
   "metadata": {},
   "source": [
    "Additionally, we define an artificial variable of interest, that is not a state of the system, but will be later used for plotting:"
   ]
  },
  {
   "cell_type": "code",
   "execution_count": 7,
   "metadata": {},
   "outputs": [],
   "source": [
    "T_dif = model.set_expression(expr_name='T_dif', expr=T_R-T_K)"
   ]
  },
  {
   "cell_type": "markdown",
   "metadata": {},
   "source": [
    "WIth the help ot the $k_i$-s and $T_{\\text{dif}}$ we can define the ODEs:"
   ]
  },
  {
   "cell_type": "code",
   "execution_count": 8,
   "metadata": {},
   "outputs": [],
   "source": [
    "model.set_rhs('C_a', F*(C_A0 - C_a) -K_1*C_a - K_3*(C_a**2))\n",
    "model.set_rhs('C_b', -F*C_b + K_1*C_a - K_2*C_b)\n",
    "model.set_rhs('T_R', ((K_1*C_a*H_R_ab + K_2*C_b*H_R_bc + K_3*(C_a**2)*H_R_ad)/(-Rou*Cp)) + F*(T_in-T_R) +(((K_w*A_R)*(-T_dif))/(Rou*Cp*V_R)))\n",
    "model.set_rhs('T_K', (Q_dot + K_w*A_R*(T_dif))/(m_k*Cp_k))"
   ]
  },
  {
   "cell_type": "markdown",
   "metadata": {},
   "source": [
    "Finally, the model setup is completed:"
   ]
  },
  {
   "cell_type": "code",
   "execution_count": 9,
   "metadata": {},
   "outputs": [],
   "source": [
    "# Build the model\n",
    "model.setup()"
   ]
  },
  {
   "cell_type": "markdown",
   "metadata": {},
   "source": [
    "## Controller"
   ]
  },
  {
   "cell_type": "markdown",
   "metadata": {},
   "source": [
    "Next, the model predictive controller is configured. This is needed as the approximate MPC is a supervised training approach, where the training data is generated by the MPC. Therefore, the MPC and the model specifies the behavior of the approximate MPC.\n",
    "First, one member of the mpc class is generated with the prediction model defined above:"
   ]
  },
  {
   "cell_type": "code",
   "execution_count": 10,
   "metadata": {},
   "outputs": [],
   "source": [
    "mpc = do_mpc.controller.MPC(model)"
   ]
  },
  {
   "cell_type": "markdown",
   "metadata": {},
   "source": [
    "We choose the prediction horizon `n_horizon`, set the robust horizon `n_robust` to 0.\n",
    "It is possible to use the approximate MPC for robust MPC, but in its current only open-loop sampling can be used as a sampling strategy for the robust MPC.\n",
    "The time step `t_step` is set to 0.005h and parameters of the applied discretization scheme orthogonal collocation are as seen below:"
   ]
  },
  {
   "cell_type": "code",
   "execution_count": 11,
   "metadata": {},
   "outputs": [],
   "source": [
    "# Set settings of MPC:\n",
    "mpc.settings.n_horizon = 20\n",
    "mpc.settings.n_robust = 0\n",
    "mpc.settings.open_loop = 0\n",
    "mpc.settings.t_step = 0.005\n",
    "mpc.settings.state_discretization = 'collocation'\n",
    "mpc.settings.collocation_type = 'radau'\n",
    "mpc.settings.collocation_deg = 2\n",
    "mpc.settings.collocation_ni = 1\n",
    "mpc.settings.store_full_solution = True"
   ]
  },
  {
   "cell_type": "markdown",
   "metadata": {},
   "source": [
    "Because the magnitude of the states and inputs is very different, we introduce scaling factors:"
   ]
  },
  {
   "cell_type": "code",
   "execution_count": 12,
   "metadata": {},
   "outputs": [],
   "source": [
    "mpc.scaling['_x', 'T_R'] = 100\n",
    "mpc.scaling['_x', 'T_K'] = 100\n",
    "mpc.scaling['_u', 'Q_dot'] = 2000\n",
    "mpc.scaling['_u', 'F'] = 100"
   ]
  },
  {
   "cell_type": "markdown",
   "metadata": {},
   "source": [
    "### Objective\n",
    "\n",
    "The goal of the CSTR is to obtain a mixture with a concentration of $C_{\\text{B,ref}} = 0.6$ mol/l.\n",
    "Additionally, we add a penalty on input changes for both control inputs, to obtain a smooth control performance."
   ]
  },
  {
   "cell_type": "code",
   "execution_count": 13,
   "metadata": {},
   "outputs": [],
   "source": [
    "mterm = (model.x['C_b'] - 0.6)**2+(model.x['C_a'] - 0.7)**2\n",
    "lterm = (model.x['C_b'] - 0.6)**2+(model.x['C_a'] - 0.7)**2\n",
    "\n",
    "mpc.set_objective(mterm=mterm, lterm=lterm)\n",
    "\n",
    "mpc.set_rterm(F=0.1, Q_dot = 1e-3)"
   ]
  },
  {
   "cell_type": "markdown",
   "metadata": {},
   "source": [
    "### Constraints\n",
    "\n",
    "In the next step, the constraints of the control problem are set.\n",
    "In this case, there are only upper and lower bounds for each state and the input:"
   ]
  },
  {
   "cell_type": "code",
   "execution_count": 14,
   "metadata": {},
   "outputs": [],
   "source": [
    "# lower bounds of the states\n",
    "mpc.bounds['lower', '_x', 'C_a'] = 0.1\n",
    "mpc.bounds['lower', '_x', 'C_b'] = 0.1\n",
    "mpc.bounds['lower', '_x', 'T_R'] = 50\n",
    "mpc.bounds['lower', '_x', 'T_K'] = 50\n",
    "\n",
    "# upper bounds of the states\n",
    "mpc.bounds['upper', '_x', 'C_a'] = 2\n",
    "mpc.bounds['upper', '_x', 'C_b'] = 2\n",
    "mpc.bounds['upper', '_x', 'T_R'] = 140\n",
    "mpc.bounds['upper', '_x', 'T_K'] = 140\n",
    "\n",
    "# lower bounds of the inputs\n",
    "mpc.bounds['lower', '_u', 'F'] = 5\n",
    "mpc.bounds['lower', '_u', 'Q_dot'] = -8500\n",
    "\n",
    "# upper bounds of the inputs\n",
    "mpc.bounds['upper', '_u', 'F'] = 100\n",
    "mpc.bounds['upper', '_u', 'Q_dot'] = 0.0"
   ]
  },
  {
   "cell_type": "markdown",
   "metadata": {},
   "source": [
    "The setup of the MPC controller is concluded by:"
   ]
  },
  {
   "cell_type": "code",
   "execution_count": 15,
   "metadata": {},
   "outputs": [],
   "source": [
    "mpc.setup()"
   ]
  },
  {
   "cell_type": "markdown",
   "metadata": {},
   "source": [
    "## Estimator\n",
    "\n",
    "We assume, that all states can be directly measured (state-feedback):"
   ]
  },
  {
   "cell_type": "code",
   "execution_count": 16,
   "metadata": {},
   "outputs": [],
   "source": [
    "estimator = do_mpc.estimator.StateFeedback(model)"
   ]
  },
  {
   "cell_type": "markdown",
   "metadata": {},
   "source": [
    "## Simulator\n",
    "\n",
    "To create a simulator in order to run the approximate MPC in a closed-loop, we create an instance of the **do-mpc** simulator which is based on the same model:"
   ]
  },
  {
   "cell_type": "code",
   "execution_count": 17,
   "metadata": {},
   "outputs": [],
   "source": [
    "simulator = do_mpc.simulator.Simulator(model)"
   ]
  },
  {
   "cell_type": "markdown",
   "metadata": {},
   "source": [
    "For the simulation, we use the same time step `t_step` as for the optimizer:"
   ]
  },
  {
   "cell_type": "code",
   "execution_count": 18,
   "metadata": {},
   "outputs": [],
   "source": [
    "params_simulator = {\n",
    "        'integration_tool': 'cvodes',\n",
    "        'abstol': 1e-10,\n",
    "        'reltol': 1e-10,\n",
    "        't_step': 0.005\n",
    "    }\n",
    "\n",
    "simulator.set_param(**params_simulator)"
   ]
  },
  {
   "cell_type": "markdown",
   "metadata": {},
   "source": [
    "To finish the configuration of the simulator, call:"
   ]
  },
  {
   "cell_type": "code",
   "execution_count": 19,
   "metadata": {},
   "outputs": [],
   "source": [
    "simulator.setup()"
   ]
  },
  {
   "cell_type": "markdown",
   "metadata": {},
   "source": [
    "## Initialisation of the MPC and Simulator\n",
    "\n",
    "For the initilisation of the MPC configured for the CSTR, we inspect the file **main.py**.\n",
    "We define the initial state of the system and set it for all parts of the closed-loop configuration:"
   ]
  },
  {
   "cell_type": "code",
   "execution_count": 20,
   "metadata": {},
   "outputs": [],
   "source": [
    "# Set the initial state of mpc and simulator:\n",
    "C_a_0 = 0.8 # This is the initial concentration inside the tank [mol/l]\n",
    "C_b_0 = 0.5 # This is the controlled variable [mol/l]\n",
    "T_R_0 = 134.14 #[C]\n",
    "T_K_0 = 130.0 #[C]\n",
    "x0 = np.array([C_a_0, C_b_0, T_R_0, T_K_0]).reshape(-1,1)\n",
    "u0=np.array([[5],[0]])\n",
    "\n",
    "# pushing to class\n",
    "mpc.x0 = x0\n",
    "simulator.x0 = x0\n",
    "mpc.set_initial_guess()\n",
    "simulator.set_initial_guess()"
   ]
  },
  {
   "cell_type": "markdown",
   "metadata": {},
   "source": [
    "## Approximate MPC\n",
    "\n",
    "So far, we have only initialized our model, the MPC and the Simulator, which is similar to the usage of a MPC for controlling the system. In the next steps we have to configure our approximate MPC, the Sampler for generating training data and the Trainer for training the Approximate MPC.\n",
    "This three classes are the main components of the Approximate MPC. As it is standard in do-mpc, each of these classes can be configured using the settings of the respective class. After calling **setup()** the instance of the class is ready to be used.\n",
    "First, the Approximate MPC is configured. One member of the ApproximateMPC class is generated which is initialized with the MPC class defined above:"
   ]
  },
  {
   "cell_type": "code",
   "execution_count": 21,
   "metadata": {},
   "outputs": [],
   "source": [
    "approx_mpc = do_mpc.approximateMPC.ApproxMPC(mpc)"
   ]
  },
  {
   "cell_type": "markdown",
   "metadata": {},
   "source": [
    "Appropriate sizes for number of hidden layers `n_hidden_layers` and number of neurons per layer `n_neurons` are chosen in this example using the settings class. Note that default parameters of each settings parameter are provided.:"
   ]
  },
  {
   "cell_type": "code",
   "execution_count": 22,
   "metadata": {},
   "outputs": [],
   "source": [
    "approx_mpc.settings.n_hidden_layers = 3\n",
    "approx_mpc.settings.n_neurons = 50"
   ]
  },
  {
   "cell_type": "markdown",
   "metadata": {},
   "source": [
    "Other setting parameters for the approximate MPC include the activation function and the device on which the approximate MPC should run. The setup of the Approximate MPC controller is concluded by:"
   ]
  },
  {
   "cell_type": "code",
   "execution_count": 23,
   "metadata": {},
   "outputs": [
    {
     "name": "stdout",
     "output_type": "stream",
     "text": [
      "----------------------------------\n",
      "ApproxMPC(\n",
      "  (net): FeedforwardNN(\n",
      "    (layers): ModuleList(\n",
      "      (0): Linear(in_features=6, out_features=50, bias=True)\n",
      "      (1): ReLU()\n",
      "      (2): Linear(in_features=50, out_features=50, bias=True)\n",
      "      (3): ReLU()\n",
      "      (4): Linear(in_features=50, out_features=50, bias=True)\n",
      "      (5): ReLU()\n",
      "      (6): Linear(in_features=50, out_features=2, bias=True)\n",
      "    )\n",
      "  )\n",
      ")\n",
      "----------------------------------\n"
     ]
    }
   ],
   "source": [
    "approx_mpc.setup()"
   ]
  },
  {
   "cell_type": "markdown",
   "metadata": {},
   "source": [
    "## Sampler\n",
    "\n",
    "Next, a Sampler is configured. This class is used to generate training data for Approximate MPC.\n",
    "It uses the already established sampling planner of do-mpc, son in case you want to take a deep dive into generating data with do-mpc, you can revisit the respective example. This class also needs to be initialized with the MPC class as it uses the MPC to generate the training data."
   ]
  },
  {
   "cell_type": "code",
   "execution_count": 24,
   "metadata": {},
   "outputs": [],
   "source": [
    "sampler = do_mpc.approximateMPC.Sampler(mpc)"
   ]
  },
  {
   "cell_type": "markdown",
   "metadata": {},
   "source": [
    "Next, the Sampler settings are configured. Currently, we support two sampling approaches, the open-loop standard sampling, where **n_samples** random data is sampled within the bounds of the MPC. The `closed_loop_flag` can be used to use a closed-loop sampling approach where closed loop trajectories of the length **trajectory_length**. Note that now **n_samples*trajectory_length** sampling data points are generated. The default `trajectory_length` is set to `5`. Again, these parameters are set through the settings class."
   ]
  },
  {
   "cell_type": "code",
   "execution_count": 25,
   "metadata": {},
   "outputs": [],
   "source": [
    "sampler.settings.closed_loop_flag = True\n",
    "sampler.settings.trajectory_length = 10\n",
    "n_samples=100\n",
    "sampler.settings.n_samples = n_samples"
   ]
  },
  {
   "cell_type": "markdown",
   "metadata": {},
   "source": [
    "The location `data_dir` where the sampled data will be stored can be set as well"
   ]
  },
  {
   "cell_type": "code",
   "execution_count": 27,
   "metadata": {},
   "outputs": [],
   "source": [
    "data_dir= './sampled_data_notebook'\n",
    "sampler.settings.data_dir = data_dir"
   ]
  },
  {
   "cell_type": "markdown",
   "metadata": {},
   "source": [
    "The setup of the Sampler class is concluded by:"
   ]
  },
  {
   "cell_type": "code",
   "execution_count": 28,
   "metadata": {},
   "outputs": [],
   "source": [
    "sampler.setup()"
   ]
  },
  {
   "cell_type": "markdown",
   "metadata": {},
   "source": [
    "The Sampler is now used to generate the sample data on which the ApproximateMPC will be trained further. for this a default sumpling plan is used. This iteratively calculates the training data, so depending on `n_samples` and the complexity of the MPC controller, it might take a while. (The output of the MPC is supperssed with the magic command `%%capture`)"
   ]
  },
  {
   "cell_type": "code",
   "execution_count": 29,
   "metadata": {},
   "outputs": [],
   "source": [
    "%%capture\n",
    "sampler.default_sampling()"
   ]
  },
  {
   "cell_type": "markdown",
   "metadata": {},
   "source": [
    "## Trainer\n",
    "\n",
    "Next, a Trainer is configured. The Trainer is used to train the approximate MPC on the generated training data. Therefore, the Trainer is initialized with the ApproximateMPC class:"
   ]
  },
  {
   "cell_type": "code",
   "execution_count": 30,
   "metadata": {},
   "outputs": [],
   "source": [
    "trainer = do_mpc.approximateMPC.Trainer(approx_mpc)"
   ]
  },
  {
   "cell_type": "markdown",
   "metadata": {},
   "source": [
    "Next the trainer setting parameters are configured. Make sure to set the right direction for the training data, which is done by setting the `data_dir` and the right sampling value:"
   ]
  },
  {
   "cell_type": "code",
   "execution_count": 31,
   "metadata": {},
   "outputs": [],
   "source": [
    "trainer.settings.data_dir = data_dir\n",
    "trainer.settings.n_samples = n_samples"
   ]
  },
  {
   "cell_type": "markdown",
   "metadata": {},
   "source": [
    "We now set the hyperparameters for the training of the approximate MPC such as `n_epochs`. The Trainer also can use the learning rate scheduler of Pytorch for which the parameters can be set with the `scheduler_settings`. This can improve the trainning performance when hitting a plateau"
   ]
  },
  {
   "cell_type": "code",
   "execution_count": 32,
   "metadata": {},
   "outputs": [],
   "source": [
    "trainer.settings.n_epochs = 1000\n",
    "trainer.settings.scheduler_flag = True\n",
    "trainer.scheduler_settings.cooldown = 0\n",
    "trainer.scheduler_settings.patience = 10"
   ]
  },
  {
   "cell_type": "markdown",
   "metadata": {},
   "source": [
    "To display and save the performance of the training, the following flags may be set:"
   ]
  },
  {
   "cell_type": "code",
   "execution_count": 33,
   "metadata": {},
   "outputs": [],
   "source": [
    "trainer.settings.show_fig =True\n",
    "trainer.settings.save_fig = True\n",
    "trainer.settings.save_history = True"
   ]
  },
  {
   "cell_type": "markdown",
   "metadata": {},
   "source": [
    "The location where the samples data is stored is provided with `results_dir`:"
   ]
  },
  {
   "cell_type": "code",
   "execution_count": 34,
   "metadata": {},
   "outputs": [],
   "source": [
    "trainer.settings.data_dir = './training_results_notebook'"
   ]
  },
  {
   "cell_type": "markdown",
   "metadata": {},
   "source": [
    "Finally, the trainer is setup:"
   ]
  },
  {
   "cell_type": "code",
   "execution_count": 35,
   "metadata": {},
   "outputs": [],
   "source": [
    "trainer.setup()"
   ]
  },
  {
   "cell_type": "markdown",
   "metadata": {},
   "source": [
    "The training process is initiated:"
   ]
  },
  {
   "cell_type": "code",
   "execution_count": 36,
   "metadata": {},
   "outputs": [
    {
     "name": "stdout",
     "output_type": "stream",
     "text": [
      "Path from trainer to sampled files\n",
      " sampled_data_notebook\\data_n100_opt.pkl\n"
     ]
    },
    {
     "name": "stderr",
     "output_type": "stream",
     "text": [
      "c:\\Users\\naska\\anaconda3\\envs\\appx_mpc\\Lib\\site-packages\\torch\\utils\\_device.py:106: UserWarning: Creating a tensor from a list of numpy.ndarrays is extremely slow. Please consider converting the list to a single numpy.ndarray with numpy.array() before converting to a tensor. (Triggered internally at C:\\actions-runner\\_work\\pytorch\\pytorch\\builder\\windows\\pytorch\\torch\\csrc\\utils\\tensor_new.cpp:281.)\n",
      "  return func(*args, **kwargs)\n"
     ]
    },
    {
     "name": "stdout",
     "output_type": "stream",
     "text": [
      "epoch :  9\n",
      "train_loss :  0.4160086512565613\n",
      "val_loss :  0.397467702627182\n",
      "-------------------------------\n",
      "epoch :  19\n",
      "train_loss :  0.18155843019485474\n",
      "val_loss :  0.15467727184295654\n",
      "-------------------------------\n",
      "epoch :  29\n",
      "train_loss :  0.014085209928452969\n",
      "val_loss :  0.011739755049347878\n",
      "-------------------------------\n",
      "epoch :  39\n",
      "train_loss :  0.02805677056312561\n",
      "val_loss :  0.019233105704188347\n",
      "-------------------------------\n",
      "epoch :  49\n",
      "train_loss :  0.016721311956644058\n",
      "val_loss :  0.012291684746742249\n",
      "-------------------------------\n",
      "epoch :  59\n",
      "train_loss :  0.01566614769399166\n",
      "val_loss :  0.01153063215315342\n",
      "-------------------------------\n",
      "epoch :  69\n",
      "train_loss :  0.015552608296275139\n",
      "val_loss :  0.01144171692430973\n",
      "-------------------------------\n",
      "epoch :  79\n",
      "train_loss :  0.015539228916168213\n",
      "val_loss :  0.011430776678025723\n",
      "-------------------------------\n",
      "epoch :  89\n",
      "train_loss :  0.015537641011178493\n",
      "val_loss :  0.011429449543356895\n",
      "-------------------------------\n",
      "epoch :  99\n",
      "train_loss :  0.015537422150373459\n",
      "val_loss :  0.011429236270487309\n",
      "-------------------------------\n",
      "epoch :  109\n",
      "train_loss :  0.01553718838840723\n",
      "val_loss :  0.011429008096456528\n",
      "-------------------------------\n",
      "epoch :  119\n",
      "train_loss :  0.015536944381892681\n",
      "val_loss :  0.0114287706092\n",
      "-------------------------------\n",
      "epoch :  129\n",
      "train_loss :  0.01553669199347496\n",
      "val_loss :  0.011428522877395153\n",
      "-------------------------------\n",
      "epoch :  139\n",
      "train_loss :  0.015536435879766941\n",
      "val_loss :  0.011428273282945156\n",
      "-------------------------------\n",
      "epoch :  149\n",
      "train_loss :  0.015536165796220303\n",
      "val_loss :  0.01142800971865654\n",
      "-------------------------------\n",
      "epoch :  159\n",
      "train_loss :  0.015535891987383366\n",
      "val_loss :  0.01142774149775505\n",
      "-------------------------------\n",
      "epoch :  169\n",
      "train_loss :  0.015535611659288406\n",
      "val_loss :  0.011427470482885838\n",
      "-------------------------------\n",
      "epoch :  179\n",
      "train_loss :  0.015535329468548298\n",
      "val_loss :  0.011427192017436028\n",
      "-------------------------------\n",
      "epoch :  189\n",
      "train_loss :  0.015535038895905018\n",
      "val_loss :  0.011426909826695919\n",
      "-------------------------------\n",
      "epoch :  199\n",
      "train_loss :  0.015534746460616589\n",
      "val_loss :  0.011426623910665512\n",
      "-------------------------------\n",
      "epoch :  209\n",
      "train_loss :  0.015534446574747562\n",
      "val_loss :  0.011426331475377083\n",
      "-------------------------------\n",
      "epoch :  219\n",
      "train_loss :  0.015534143894910812\n",
      "val_loss :  0.011426037177443504\n",
      "-------------------------------\n",
      "epoch :  229\n",
      "train_loss :  0.015533830039203167\n",
      "val_loss :  0.011425727978348732\n",
      "-------------------------------\n",
      "epoch :  239\n",
      "train_loss :  0.015533514320850372\n",
      "val_loss :  0.011425419710576534\n",
      "-------------------------------\n",
      "epoch :  249\n",
      "train_loss :  0.01553319115191698\n",
      "val_loss :  0.011425104923546314\n",
      "-------------------------------\n",
      "epoch :  259\n",
      "train_loss :  0.01553286612033844\n",
      "val_loss :  0.011424786411225796\n",
      "-------------------------------\n",
      "epoch :  269\n",
      "train_loss :  0.015532535500824451\n",
      "val_loss :  0.011424465104937553\n",
      "-------------------------------\n",
      "epoch :  279\n",
      "train_loss :  0.01553220022469759\n",
      "val_loss :  0.01142413541674614\n",
      "-------------------------------\n",
      "epoch :  289\n",
      "train_loss :  0.015531858429312706\n",
      "val_loss :  0.011423803865909576\n",
      "-------------------------------\n",
      "epoch :  299\n",
      "train_loss :  0.015531514771282673\n",
      "val_loss :  0.011423468589782715\n",
      "-------------------------------\n",
      "epoch :  309\n",
      "train_loss :  0.015531167387962341\n",
      "val_loss :  0.011423126794397831\n",
      "-------------------------------\n",
      "epoch :  319\n",
      "train_loss :  0.01553081814199686\n",
      "val_loss :  0.011422784067690372\n",
      "-------------------------------\n",
      "epoch :  329\n",
      "train_loss :  0.015530459582805634\n",
      "val_loss :  0.011422435753047466\n",
      "-------------------------------\n",
      "epoch :  339\n",
      "train_loss :  0.015530097298324108\n",
      "val_loss :  0.011422079056501389\n",
      "-------------------------------\n",
      "epoch :  349\n",
      "train_loss :  0.015529725700616837\n",
      "val_loss :  0.011421716772019863\n",
      "-------------------------------\n",
      "epoch :  359\n",
      "train_loss :  0.015529354102909565\n",
      "val_loss :  0.011421353556215763\n",
      "-------------------------------\n",
      "epoch :  369\n",
      "train_loss :  0.015528978779911995\n",
      "val_loss :  0.011420984752476215\n",
      "-------------------------------\n",
      "epoch :  379\n",
      "train_loss :  0.015528601594269276\n",
      "val_loss :  0.011420618742704391\n",
      "-------------------------------\n",
      "epoch :  389\n",
      "train_loss :  0.015528218820691109\n",
      "val_loss :  0.011420240625739098\n",
      "-------------------------------\n",
      "epoch :  399\n",
      "train_loss :  0.015527830459177494\n",
      "val_loss :  0.011419863440096378\n",
      "-------------------------------\n",
      "epoch :  409\n",
      "train_loss :  0.01552744023501873\n",
      "val_loss :  0.011419479735195637\n",
      "-------------------------------\n",
      "epoch :  419\n",
      "train_loss :  0.015527044422924519\n",
      "val_loss :  0.011419094167649746\n",
      "-------------------------------\n",
      "epoch :  429\n",
      "train_loss :  0.015526648610830307\n",
      "val_loss :  0.011418705806136131\n",
      "-------------------------------\n",
      "epoch :  439\n",
      "train_loss :  0.015526249073445797\n",
      "val_loss :  0.011418314650654793\n",
      "-------------------------------\n",
      "epoch :  449\n",
      "train_loss :  0.015525847673416138\n",
      "val_loss :  0.011417921632528305\n",
      "-------------------------------\n",
      "epoch :  459\n",
      "train_loss :  0.015525436960160732\n",
      "val_loss :  0.011417518369853497\n",
      "-------------------------------\n",
      "epoch :  469\n",
      "train_loss :  0.015525021590292454\n",
      "val_loss :  0.01141711138188839\n",
      "-------------------------------\n",
      "epoch :  479\n",
      "train_loss :  0.015524603426456451\n",
      "val_loss :  0.011416702531278133\n",
      "-------------------------------\n",
      "epoch :  489\n",
      "train_loss :  0.01552418153733015\n",
      "val_loss :  0.011416290886700153\n",
      "-------------------------------\n",
      "epoch :  499\n",
      "train_loss :  0.0155237577855587\n",
      "val_loss :  0.011415875516831875\n",
      "-------------------------------\n",
      "epoch :  509\n",
      "train_loss :  0.01552332192659378\n",
      "val_loss :  0.011415446177124977\n",
      "-------------------------------\n",
      "epoch :  519\n",
      "train_loss :  0.015522874891757965\n",
      "val_loss :  0.011415008455514908\n",
      "-------------------------------\n",
      "epoch :  529\n",
      "train_loss :  0.015522434376180172\n",
      "val_loss :  0.01141457911580801\n",
      "-------------------------------\n",
      "epoch :  539\n",
      "train_loss :  0.015521980822086334\n",
      "val_loss :  0.011414133943617344\n",
      "-------------------------------\n",
      "epoch :  549\n",
      "train_loss :  0.015521532855927944\n",
      "val_loss :  0.01141369342803955\n",
      "-------------------------------\n",
      "epoch :  559\n",
      "train_loss :  0.015521073713898659\n",
      "val_loss :  0.01141324546188116\n",
      "-------------------------------\n",
      "epoch :  569\n",
      "train_loss :  0.015520612709224224\n",
      "val_loss :  0.011412795633077621\n",
      "-------------------------------\n",
      "epoch :  579\n",
      "train_loss :  0.015520161017775536\n",
      "val_loss :  0.011412350460886955\n",
      "-------------------------------\n",
      "epoch :  589\n",
      "train_loss :  0.015519694425165653\n",
      "val_loss :  0.011411894112825394\n",
      "-------------------------------\n",
      "epoch :  599\n",
      "train_loss :  0.015519226901233196\n",
      "val_loss :  0.011411435902118683\n",
      "-------------------------------\n",
      "epoch :  609\n",
      "train_loss :  0.015518768690526485\n",
      "val_loss :  0.011410987004637718\n",
      "-------------------------------\n",
      "epoch :  619\n",
      "train_loss :  0.01551829930394888\n",
      "val_loss :  0.011410527862608433\n",
      "-------------------------------\n",
      "epoch :  629\n",
      "train_loss :  0.015517836436629295\n",
      "val_loss :  0.011410068720579147\n",
      "-------------------------------\n",
      "epoch :  639\n",
      "train_loss :  0.015517368912696838\n",
      "val_loss :  0.011409614235162735\n",
      "-------------------------------\n",
      "epoch :  649\n",
      "train_loss :  0.015516894869506359\n",
      "val_loss :  0.011409152299165726\n",
      "-------------------------------\n",
      "epoch :  659\n",
      "train_loss :  0.0155164310708642\n",
      "val_loss :  0.011408700607717037\n",
      "-------------------------------\n",
      "epoch :  669\n",
      "train_loss :  0.015515959821641445\n",
      "val_loss :  0.011408236809074879\n",
      "-------------------------------\n",
      "epoch :  679\n",
      "train_loss :  0.015515484847128391\n",
      "val_loss :  0.011407768353819847\n",
      "-------------------------------\n",
      "epoch :  689\n",
      "train_loss :  0.01551501639187336\n",
      "val_loss :  0.011407313868403435\n",
      "-------------------------------\n",
      "epoch :  699\n",
      "train_loss :  0.01551454234868288\n",
      "val_loss :  0.011406846344470978\n",
      "-------------------------------\n",
      "epoch :  709\n",
      "train_loss :  0.01551407016813755\n",
      "val_loss :  0.011406381614506245\n",
      "-------------------------------\n",
      "epoch :  719\n",
      "train_loss :  0.015513590537011623\n",
      "val_loss :  0.011405915953218937\n",
      "-------------------------------\n",
      "epoch :  729\n",
      "train_loss :  0.015513109043240547\n",
      "val_loss :  0.011405443772673607\n",
      "-------------------------------\n",
      "epoch :  739\n",
      "train_loss :  0.015512635931372643\n",
      "val_loss :  0.011404977180063725\n",
      "-------------------------------\n",
      "epoch :  749\n",
      "train_loss :  0.015512150712311268\n",
      "val_loss :  0.01140450406819582\n",
      "-------------------------------\n",
      "epoch :  759\n",
      "train_loss :  0.015511665493249893\n",
      "val_loss :  0.011404027231037617\n",
      "-------------------------------\n",
      "epoch :  769\n",
      "train_loss :  0.015511187724769115\n",
      "val_loss :  0.011403560638427734\n",
      "-------------------------------\n",
      "epoch :  779\n",
      "train_loss :  0.015510701574385166\n",
      "val_loss :  0.011403083801269531\n",
      "-------------------------------\n",
      "epoch :  789\n",
      "train_loss :  0.01551022194325924\n",
      "val_loss :  0.011402606964111328\n",
      "-------------------------------\n",
      "epoch :  799\n",
      "train_loss :  0.015509732067584991\n",
      "val_loss :  0.011402133852243423\n",
      "-------------------------------\n",
      "epoch :  809\n",
      "train_loss :  0.01550923939794302\n",
      "val_loss :  0.011401653289794922\n",
      "-------------------------------\n",
      "epoch :  819\n",
      "train_loss :  0.015508761629462242\n",
      "val_loss :  0.011401182040572166\n",
      "-------------------------------\n",
      "epoch :  829\n",
      "train_loss :  0.015508268028497696\n",
      "val_loss :  0.01140070054680109\n",
      "-------------------------------\n",
      "epoch :  839\n",
      "train_loss :  0.015507777221500874\n",
      "val_loss :  0.011400219053030014\n",
      "-------------------------------\n",
      "epoch :  849\n",
      "train_loss :  0.015507293865084648\n",
      "val_loss :  0.01139974407851696\n",
      "-------------------------------\n",
      "epoch :  859\n",
      "train_loss :  0.015506801195442677\n",
      "val_loss :  0.01139926165342331\n",
      "-------------------------------\n",
      "epoch :  869\n",
      "train_loss :  0.015506317839026451\n",
      "val_loss :  0.011398782022297382\n",
      "-------------------------------\n",
      "epoch :  879\n",
      "train_loss :  0.01550582330673933\n",
      "val_loss :  0.01139830145984888\n",
      "-------------------------------\n",
      "epoch :  889\n",
      "train_loss :  0.015505325049161911\n",
      "val_loss :  0.01139781717211008\n",
      "-------------------------------\n",
      "epoch :  899\n",
      "train_loss :  0.01550484262406826\n",
      "val_loss :  0.011397338472306728\n",
      "-------------------------------\n",
      "epoch :  909\n",
      "train_loss :  0.01550434622913599\n",
      "val_loss :  0.011396854184567928\n",
      "-------------------------------\n",
      "epoch :  919\n",
      "train_loss :  0.015503848902881145\n",
      "val_loss :  0.011396367102861404\n",
      "-------------------------------\n",
      "epoch :  929\n",
      "train_loss :  0.015503359958529472\n",
      "val_loss :  0.011395890265703201\n",
      "-------------------------------\n",
      "epoch :  939\n",
      "train_loss :  0.015502863563597202\n",
      "val_loss :  0.011395402252674103\n",
      "-------------------------------\n",
      "epoch :  949\n",
      "train_loss :  0.01550237461924553\n",
      "val_loss :  0.011394917033612728\n",
      "-------------------------------\n",
      "epoch :  959\n",
      "train_loss :  0.015501878224313259\n",
      "val_loss :  0.011394432745873928\n",
      "-------------------------------\n",
      "epoch :  969\n",
      "train_loss :  0.01550137996673584\n",
      "val_loss :  0.011393948458135128\n",
      "-------------------------------\n",
      "epoch :  979\n",
      "train_loss :  0.015500891022384167\n",
      "val_loss :  0.011393467895686626\n",
      "-------------------------------\n",
      "epoch :  989\n",
      "train_loss :  0.015500388108193874\n",
      "val_loss :  0.01139297429472208\n",
      "-------------------------------\n",
      "epoch :  999\n",
      "train_loss :  0.015499887987971306\n",
      "val_loss :  0.011392485350370407\n",
      "-------------------------------\n"
     ]
    },
    {
     "data": {
      "image/png": "[encoded data removed]",
      "text/plain": [
       "<Figure size 800x600 with 2 Axes>"
      ]
     },
     "metadata": {},
     "output_type": "display_data"
    }
   ],
   "source": [
    "trainer.default_training()"
   ]
  },
  {
   "cell_type": "markdown",
   "metadata": {},
   "source": [
    "# Closed loop simulation\n",
    "\n",
    "Now all we are ready for simulating the system with the newly trained approximate MPC controller, for 50 steps. As for the MPC the `make_step` function of the approximate MPC is used where instead of solving an optimization problem the pre-trained neural network is evaluated. It is possible to clip the control inputs to the bounds of the MPC controller with the flag `clip_to_bounds=True`.\n",
    "\n",
    "# Explain Clip to bound"
   ]
  },
  {
   "cell_type": "code",
   "execution_count": 37,
   "metadata": {},
   "outputs": [
    {
     "ename": "ValueError",
     "evalue": "No output constraints defined. Clipping not possible.",
     "output_type": "error",
     "traceback": [
      "\u001B[1;31m---------------------------------------------------------------------------\u001B[0m",
      "\u001B[1;31mValueError\u001B[0m                                Traceback (most recent call last)",
      "Cell \u001B[1;32mIn[37], line 3\u001B[0m\n\u001B[0;32m      1\u001B[0m sim_time \u001B[38;5;241m=\u001B[39m \u001B[38;5;241m50\u001B[39m\n\u001B[0;32m      2\u001B[0m \u001B[38;5;28;01mfor\u001B[39;00m k \u001B[38;5;129;01min\u001B[39;00m \u001B[38;5;28mrange\u001B[39m(sim_time):\n\u001B[1;32m----> 3\u001B[0m     u0 \u001B[38;5;241m=\u001B[39m \u001B[43mapprox_mpc\u001B[49m\u001B[38;5;241;43m.\u001B[39;49m\u001B[43mmake_step\u001B[49m\u001B[43m(\u001B[49m\u001B[43mx0\u001B[49m\u001B[43m,\u001B[49m\u001B[43m \u001B[49m\u001B[43mclip_to_bounds\u001B[49m\u001B[38;5;241;43m=\u001B[39;49m\u001B[38;5;28;43;01mTrue\u001B[39;49;00m\u001B[43m)\u001B[49m\n\u001B[0;32m      4\u001B[0m     y_next \u001B[38;5;241m=\u001B[39m simulator\u001B[38;5;241m.\u001B[39mmake_step(u0)\n\u001B[0;32m      5\u001B[0m     x0 \u001B[38;5;241m=\u001B[39m estimator\u001B[38;5;241m.\u001B[39mmake_step(y_next)\n",
      "File \u001B[1;32mc:\\Users\\naska\\anaconda3\\envs\\appx_mpc\\Lib\\site-packages\\torch\\utils\\_contextlib.py:116\u001B[0m, in \u001B[0;36mcontext_decorator.<locals>.decorate_context\u001B[1;34m(*args, **kwargs)\u001B[0m\n\u001B[0;32m    113\u001B[0m \u001B[38;5;129m@functools\u001B[39m\u001B[38;5;241m.\u001B[39mwraps(func)\n\u001B[0;32m    114\u001B[0m \u001B[38;5;28;01mdef\u001B[39;00m\u001B[38;5;250m \u001B[39m\u001B[38;5;21mdecorate_context\u001B[39m(\u001B[38;5;241m*\u001B[39margs, \u001B[38;5;241m*\u001B[39m\u001B[38;5;241m*\u001B[39mkwargs):\n\u001B[0;32m    115\u001B[0m     \u001B[38;5;28;01mwith\u001B[39;00m ctx_factory():\n\u001B[1;32m--> 116\u001B[0m         \u001B[38;5;28;01mreturn\u001B[39;00m \u001B[43mfunc\u001B[49m\u001B[43m(\u001B[49m\u001B[38;5;241;43m*\u001B[39;49m\u001B[43margs\u001B[49m\u001B[43m,\u001B[49m\u001B[43m \u001B[49m\u001B[38;5;241;43m*\u001B[39;49m\u001B[38;5;241;43m*\u001B[39;49m\u001B[43mkwargs\u001B[49m\u001B[43m)\u001B[49m\n",
      "File \u001B[1;32mc:\\Users\\naska\\OneDrive\\tu_d\\PAS\\Work\\do-mpc_approx_mpc\\documentation\\source\\example_gallery\\..\\..\\..\\do_mpc\\approximateMPC\\_ampc.py:394\u001B[0m, in \u001B[0;36mApproxMPC.make_step\u001B[1;34m(self, x, u_prev, clip_to_bounds)\u001B[0m\n\u001B[0;32m    392\u001B[0m \u001B[38;5;66;03m# Clip outputs to satisfy input constraints of MPC\u001B[39;00m\n\u001B[0;32m    393\u001B[0m \u001B[38;5;28;01mif\u001B[39;00m clip_to_bounds:\n\u001B[1;32m--> 394\u001B[0m     y \u001B[38;5;241m=\u001B[39m \u001B[38;5;28;43mself\u001B[39;49m\u001B[38;5;241;43m.\u001B[39;49m\u001B[43mclip_control_actions\u001B[49m\u001B[43m(\u001B[49m\u001B[43my\u001B[49m\u001B[43m)\u001B[49m\n\u001B[0;32m    396\u001B[0m \u001B[38;5;28;01mif\u001B[39;00m \u001B[38;5;28mself\u001B[39m\u001B[38;5;241m.\u001B[39mstep_return_type \u001B[38;5;241m==\u001B[39m \u001B[38;5;124m\"\u001B[39m\u001B[38;5;124mnumpy\u001B[39m\u001B[38;5;124m\"\u001B[39m:\n\u001B[0;32m    397\u001B[0m     y \u001B[38;5;241m=\u001B[39m y\u001B[38;5;241m.\u001B[39mcpu()\u001B[38;5;241m.\u001B[39mnumpy()\u001B[38;5;241m.\u001B[39mreshape((\u001B[38;5;241m-\u001B[39m\u001B[38;5;241m1\u001B[39m,\u001B[38;5;241m1\u001B[39m))\n",
      "File \u001B[1;32mc:\\Users\\naska\\OneDrive\\tu_d\\PAS\\Work\\do-mpc_approx_mpc\\documentation\\source\\example_gallery\\..\\..\\..\\do_mpc\\approximateMPC\\_ampc.py:344\u001B[0m, in \u001B[0;36mApproxMPC.clip_control_actions\u001B[1;34m(self, y)\u001B[0m\n\u001B[0;32m    342\u001B[0m     y \u001B[38;5;241m=\u001B[39m torch\u001B[38;5;241m.\u001B[39mmin(y,\u001B[38;5;28mself\u001B[39m\u001B[38;5;241m.\u001B[39mub_u)\n\u001B[0;32m    343\u001B[0m \u001B[38;5;28;01mif\u001B[39;00m \u001B[38;5;28mself\u001B[39m\u001B[38;5;241m.\u001B[39mlb_u \u001B[38;5;129;01mis\u001B[39;00m \u001B[38;5;28;01mNone\u001B[39;00m \u001B[38;5;129;01mand\u001B[39;00m \u001B[38;5;28mself\u001B[39m\u001B[38;5;241m.\u001B[39mub_u \u001B[38;5;129;01mis\u001B[39;00m \u001B[38;5;28;01mNone\u001B[39;00m:\n\u001B[1;32m--> 344\u001B[0m     \u001B[38;5;28;01mraise\u001B[39;00m \u001B[38;5;167;01mValueError\u001B[39;00m(\u001B[38;5;124m\"\u001B[39m\u001B[38;5;124mNo output constraints defined. Clipping not possible.\u001B[39m\u001B[38;5;124m\"\u001B[39m)\n\u001B[0;32m    345\u001B[0m \u001B[38;5;28;01mreturn\u001B[39;00m y\n",
      "\u001B[1;31mValueError\u001B[0m: No output constraints defined. Clipping not possible."
     ]
    }
   ],
   "source": [
    "sim_time = 50\n",
    "for k in range(sim_time):\n",
    "    u0 = approx_mpc.make_step(x0, clip_to_bounds=True)\n",
    "    y_next = simulator.make_step(u0)\n",
    "    x0 = estimator.make_step(y_next)"
   ]
  },
  {
   "cell_type": "markdown",
   "metadata": {},
   "source": [
    "## Closed loop Evaluation of the ApproximateMPC\n",
    "\n",
    "To animate the results, we first configure the **do-mpc** graphics object, which is initiated with the respective data object:\n",
    "\n",
    "# make comment fro why simulator.data"
   ]
  },
  {
   "cell_type": "code",
   "execution_count": null,
   "metadata": {},
   "outputs": [],
   "source": [
    "sim_graphics = do_mpc.graphics.Graphics(simulator.data)"
   ]
  },
  {
   "cell_type": "markdown",
   "metadata": {},
   "source": [
    "We then create a figure, configure which lines to plot on which axis and add labels."
   ]
  },
  {
   "cell_type": "code",
   "execution_count": null,
   "metadata": {},
   "outputs": [],
   "source": [
    "import matplotlib.pyplot as plt\n",
    "\n",
    "fig, ax = plt.subplots(5, sharex=True, figsize=(16,12))\n",
    "# Configure plot:\n",
    "sim_graphics.add_line(var_type='_x', var_name='C_a', axis=ax[0])\n",
    "sim_graphics.add_line(var_type='_x', var_name='C_b', axis=ax[0])\n",
    "sim_graphics.add_line(var_type='_x', var_name='T_R', axis=ax[1])\n",
    "sim_graphics.add_line(var_type='_x', var_name='T_K', axis=ax[1])\n",
    "sim_graphics.add_line(var_type='_aux', var_name='T_dif', axis=ax[2])\n",
    "sim_graphics.add_line(var_type='_u', var_name='Q_dot', axis=ax[3])\n",
    "sim_graphics.add_line(var_type='_u', var_name='F', axis=ax[4])\n",
    "ax[0].set_ylabel('c [mol/l]')\n",
    "ax[1].set_ylabel('T [K]')\n",
    "ax[2].set_ylabel('$\\Delta$ T [K]')\n",
    "ax[3].set_ylabel('Q [kW]')\n",
    "ax[4].set_ylabel('Flow [l/h]')\n",
    "ax[4].set_xlabel('time [h]')"
   ]
  },
  {
   "cell_type": "markdown",
   "metadata": {},
   "source": [
    "Some \"cosmetic\" modifications are easily achieved with the structure ``result_lines``."
   ]
  },
  {
   "cell_type": "code",
   "execution_count": null,
   "metadata": {},
   "outputs": [],
   "source": [
    "# Add labels\n",
    "label_lines = sim_graphics.result_lines['_x', 'C_a']+sim_graphics.result_lines['_x', 'C_b']\n",
    "ax[0].legend(label_lines, ['C_a', 'C_b'])\n",
    "label_lines = sim_graphics.result_lines['_x', 'T_R']+sim_graphics.result_lines['_x', 'T_K']\n",
    "ax[1].legend(label_lines, ['T_R', 'T_K'])\n",
    "\n",
    "fig.align_ylabels()"
   ]
  },
  {
   "cell_type": "markdown",
   "metadata": {},
   "source": [
    "After importing the necessary package:"
   ]
  },
  {
   "cell_type": "code",
   "execution_count": null,
   "metadata": {},
   "outputs": [],
   "source": [
    "from matplotlib.animation import FuncAnimation, ImageMagickWriter"
   ]
  },
  {
   "cell_type": "markdown",
   "metadata": {},
   "source": [
    "We obtain the animation with:"
   ]
  },
  {
   "cell_type": "code",
   "execution_count": null,
   "metadata": {},
   "outputs": [],
   "source": [
    "def update(t_ind):\n",
    "    print('Writing frame: {}.'.format(t_ind), end='\\r')\n",
    "    sim_graphics.plot_results(t_ind=t_ind)\n",
    "    #sim_graphics.plot_predictions(t_ind=t_ind)\n",
    "    sim_graphics.reset_axes()\n",
    "    lines = sim_graphics.result_lines.full\n",
    "    return lines\n",
    "\n",
    "n_steps = sim_graphics.data['_time'].shape[0]\n",
    "\n",
    "\n",
    "anim = FuncAnimation(fig, update, frames=n_steps, blit=True)\n",
    "\n",
    "gif_writer = ImageMagickWriter(fps=5)\n",
    "anim.save('anim_appxCSTR_nb.gif', writer=gif_writer)"
   ]
  },
  {
   "cell_type": "markdown",
   "metadata": {},
   "source": [
    "![cstranim](anim_appx_CSTR_10000_closed.gif \"cstr\")"
   ]
  }
 ],
 "metadata": {
  "kernelspec": {
   "display_name": "PAS",
   "language": "python",
   "name": "pas"
  },
  "language_info": {
   "codemirror_mode": {
    "name": "ipython",
    "version": 3
   },
   "file_extension": ".py",
   "mimetype": "text/x-python",
   "name": "python",
   "nbconvert_exporter": "python",
   "pygments_lexer": "ipython3",
   "version": "3.9.15"
  }
 },
 "nbformat": 4,
 "nbformat_minor": 2
}
