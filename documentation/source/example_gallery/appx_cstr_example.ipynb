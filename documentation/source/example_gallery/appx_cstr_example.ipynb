{
 "cells": [
  {
   "cell_type": "markdown",
   "metadata": {},
   "source": [
    "# Approximate MPC with CSTR\n",
    "\n",
    "In this Jupyter Notebook we illustrate the example **Approximate MPC with CSTR**.\n",
    "\n",
    "**Open an interactive online Jupyter Notebook with this content on Binder:**\n",
    "\n",
    "[![Binder](https://mybinder.org/badge_logo.svg)]()\n",
    "\n",
    "The example is an extension of the CSTR example and therefore consists of the three modules **template_model.py**, which describes the system model, **template_mpc.py**, which defines the settings for the controller we want to approximate and **template_simulator.py**, which sets the parameters for the simulator.\n",
    "In the **main.py** we introduce the concept of the approximate MPC, for which we will generate training data, train on said data and finally do a closed-loop evaluation.\n",
    "\n",
    "In the following the different parts are presented. But first, we start by importing basic modules and **do-mpc**."
   ]
  },
  {
   "cell_type": "code",
   "execution_count": 1,
   "metadata": {
    "pycharm": {
     "is_executing": true
    }
   },
   "outputs": [
    {
     "name": "stderr",
     "output_type": "stream",
     "text": [
      "c:\\Users\\naska\\OneDrive\\tu_d\\PAS\\Work\\do-mpc_approx_mpc\\documentation\\source\\example_gallery\\..\\..\\..\\do_mpc\\sysid\\__init__.py:15: UserWarning: The ONNX feature is not available. Please install the full version of do-mpc to access this feature.\n",
      "  warnings.warn('The ONNX feature is not available. Please install the full version of do-mpc to access this feature.')\n",
      "c:\\Users\\naska\\OneDrive\\tu_d\\PAS\\Work\\do-mpc_approx_mpc\\documentation\\source\\example_gallery\\..\\..\\..\\do_mpc\\opcua\\__init__.py:14: UserWarning: The opcua feature is not available. Please install the full version of do-mpc to access this feature.\n",
      "  warnings.warn('The opcua feature is not available. Please install the full version of do-mpc to access this feature.')\n"
     ]
    }
   ],
   "source": [
    "from casadi.tools import *\n",
    "import sys\n",
    "import os\n",
    "\n",
    "# Add do_mpc to path. This is not necessary if it was installed via pip\n",
    "rel_do_mpc_path = os.path.join('..', '..','..')\n",
    "sys.path.append(rel_do_mpc_path)\n",
    "\n",
    "# Import do_mpc package:\n",
    "import do_mpc\n",
    "\n",
    "\n",
    "import matplotlib.pyplot as plt"
   ]
  },
  {
   "cell_type": "markdown",
   "metadata": {},
   "source": [
    "## Model"
   ]
  },
  {
   "cell_type": "markdown",
   "metadata": {},
   "source": [
    "In the following we will present the configuration, setup and connection between these blocks, starting with the `model`.\n",
    "The considered model of the CSTR is continuous and has 4 states and 2 control inputs.\n",
    "The model is initiated by:"
   ]
  },
  {
   "cell_type": "code",
   "execution_count": 2,
   "metadata": {},
   "outputs": [],
   "source": [
    "model_type = 'continuous' # either 'discrete' or 'continuous'\n",
    "model = do_mpc.model.Model(model_type)"
   ]
  },
  {
   "cell_type": "markdown",
   "metadata": {},
   "source": [
    "### States and control inputs\n",
    "\n",
    "The four states are concentration of reactant A ($C_{\\text{A}}$), the concentration of reactant B ($C_{\\text{B}}$), the temperature inside the reactor ($T_{\\text{R}}$) and the temperature of the cooling jacket ($T_{\\text{K}}$):"
   ]
  },
  {
   "cell_type": "code",
   "execution_count": 3,
   "metadata": {},
   "outputs": [],
   "source": [
    "# States struct (optimization variables):\n",
    "C_a = model.set_variable(var_type='_x', var_name='C_a', shape=(1,1))\n",
    "C_b = model.set_variable(var_type='_x', var_name='C_b', shape=(1,1))\n",
    "T_R = model.set_variable(var_type='_x', var_name='T_R', shape=(1,1))\n",
    "T_K = model.set_variable(var_type='_x', var_name='T_K', shape=(1,1))"
   ]
  },
  {
   "cell_type": "markdown",
   "metadata": {},
   "source": [
    "The control inputs are the feed $F$ and the heat flow $\\dot{Q}$:"
   ]
  },
  {
   "cell_type": "code",
   "execution_count": 4,
   "metadata": {},
   "outputs": [],
   "source": [
    "# Input struct (optimization variables):\n",
    "F = model.set_variable(var_type='_u', var_name='F')\n",
    "Q_dot = model.set_variable(var_type='_u', var_name='Q_dot')"
   ]
  },
  {
   "cell_type": "markdown",
   "metadata": {},
   "source": [
    "### ODE and parameters\n",
    "\n",
    "The system model is described by the ordinary differential equation:\n",
    "\n",
    "\\begin{align}\n",
    "\\dot{C}_{\\text{A}} &= F \\cdot (C_{\\text{A},0} - C_{\\text{A}}) - k_1 \\cdot C_{\\text{A}} - k_3 \\cdot C_{\\text{A}}^2, \\\\\n",
    "\\dot{C}_{\\text{B}} &= -F \\cdot C_{\\text{B}} + k_1 \\cdot C_{\\text{A}} - k_2 \\cdot C_{\\text{B}}, \\\\\n",
    "\\dot{T}_{\\text{R}} &= \\frac{k_1 \\cdot C_{\\text{A}} \\cdot H_{\\text{R},ab} + k_2 \\cdot C_{\\text{B}} \\cdot  H_{\\text{R},bc} + k_3 \\cdot C_{\\text{A}}^2 \\cdot H_{\\text{R},ad}} {-\\rho \\cdot c_p}\\\\\n",
    "&+ F \\cdot (T_{\\text{in}} - T_{\\text{R}}) + \\frac{K_w \\cdot A_{\\text{R}} \\cdot(T_{\\text{K}}-T_{\\text{R}})}{\\rho \\cdot c_p \\cdot V_{\\text{R}}}, \\\\\n",
    "\\dot{T}_{\\text{K}} &= \\frac{\\dot{Q} + K_w \\cdot A_{\\text{R}} \\cdot T_{\\text{dif}}}{m_k \\cdot C_{p,k}},\n",
    "\\end{align}\n",
    "\n",
    "where\n",
    "\n",
    "\\begin{align}\n",
    "k_1 &= \\beta \\cdot k_{0,\\text{ab}} \\cdot \\exp\\left(\\frac{-E_{\\text{A},\\text{ab}}}{T_{\\text{R}}+273.15}\\right), \\\\\n",
    "k_2 &= k_{0,\\text{bc}} \\cdot \\exp \\left( \\frac{-E_{\\text{A},\\text{bc}}}{T_{\\text{R}}+273.15} \\right), \\\\\n",
    "k_3 &= k_{0,\\text{ad}} \\cdot \\exp \\left( \\frac{-\\alpha \\cdot E_{\\text{A},\\text{ad}}}{T_{\\text{R}}+273.15} \\right).\n",
    "\\end{align}"
   ]
  },
  {
   "cell_type": "code",
   "execution_count": 5,
   "metadata": {},
   "outputs": [],
   "source": [
    "# Certain parameters\n",
    "K0_ab = 1.287e12 # K0 [h^-1]\n",
    "K0_bc = 1.287e12 # K0 [h^-1]\n",
    "K0_ad = 9.043e9 # K0 [l/mol.h]\n",
    "R_gas = 8.3144621e-3 # Universal gas constant\n",
    "E_A_ab = 9758.3*1.00 #* R_gas# [kj/mol]\n",
    "E_A_bc = 9758.3*1.00 #* R_gas# [kj/mol]\n",
    "E_A_ad = 8560.0*1.0 #* R_gas# [kj/mol]\n",
    "H_R_ab = 4.2 # [kj/mol A]\n",
    "H_R_bc = -11.0 # [kj/mol B] Exothermic\n",
    "H_R_ad = -41.85 # [kj/mol A] Exothermic\n",
    "Rou = 0.9342 # Density [kg/l]\n",
    "Cp = 3.01 # Specific Heat capacity [kj/Kg.K]\n",
    "Cp_k = 2.0 # Coolant heat capacity [kj/kg.k]\n",
    "A_R = 0.215 # Area of reactor wall [m^2]\n",
    "V_R = 10.01 #0.01 # Volume of reactor [l]\n",
    "m_k = 5.0 # Coolant mass[kg]\n",
    "T_in = 130.0 # Temp of inflow [Celsius]\n",
    "K_w = 4032.0 # [kj/h.m^2.K]\n",
    "C_A0 = (5.7+4.5)/2.0*1.0 # Concentration of A in input Upper bound 5.7 lower bound 4.5 [mol/l]\n",
    "alpha=1\n",
    "beta=1\n"
   ]
  },
  {
   "cell_type": "markdown",
   "metadata": {},
   "source": [
    "In the next step, we formulate the $k_i$-s:"
   ]
  },
  {
   "cell_type": "code",
   "execution_count": 6,
   "metadata": {},
   "outputs": [],
   "source": [
    "# Auxiliary terms\n",
    "K_1 = beta * K0_ab * exp((-E_A_ab)/((T_R+273.15)))\n",
    "K_2 =  K0_bc * exp((-E_A_bc)/((T_R+273.15)))\n",
    "K_3 = K0_ad * exp((-alpha*E_A_ad)/((T_R+273.15)))"
   ]
  },
  {
   "cell_type": "markdown",
   "metadata": {},
   "source": [
    "Additionally, we define an artificial variable of interest, that is not a state of the system, but will be later used for plotting:"
   ]
  },
  {
   "cell_type": "code",
   "execution_count": 7,
   "metadata": {},
   "outputs": [],
   "source": [
    "T_dif = model.set_expression(expr_name='T_dif', expr=T_R-T_K)"
   ]
  },
  {
   "cell_type": "markdown",
   "metadata": {},
   "source": [
    "With the help of the $k_i$-s and $T_{\\text{dif}}$ we can define the ODEs:"
   ]
  },
  {
   "cell_type": "code",
   "execution_count": 8,
   "metadata": {},
   "outputs": [],
   "source": [
    "model.set_rhs('C_a', F*(C_A0 - C_a) -K_1*C_a - K_3*(C_a**2))\n",
    "model.set_rhs('C_b', -F*C_b + K_1*C_a - K_2*C_b)\n",
    "model.set_rhs('T_R', ((K_1*C_a*H_R_ab + K_2*C_b*H_R_bc + K_3*(C_a**2)*H_R_ad)/(-Rou*Cp)) + F*(T_in-T_R) +(((K_w*A_R)*(-T_dif))/(Rou*Cp*V_R)))\n",
    "model.set_rhs('T_K', (Q_dot + K_w*A_R*(T_dif))/(m_k*Cp_k))"
   ]
  },
  {
   "cell_type": "markdown",
   "metadata": {},
   "source": [
    "Finally, the model setup is completed:"
   ]
  },
  {
   "cell_type": "code",
   "execution_count": 9,
   "metadata": {},
   "outputs": [],
   "source": [
    "# Build the model\n",
    "model.setup()"
   ]
  },
  {
   "cell_type": "markdown",
   "metadata": {},
   "source": [
    "## Controller"
   ]
  },
  {
   "cell_type": "markdown",
   "metadata": {},
   "source": [
    "Next, the model predictive controller is configured. This is needed as the approximate MPC is a supervised training approach, where the training data is generated by the MPC. Therefore, the MPC and the model specifies the behavior of the approximate MPC.\n",
    "First, one member of the mpc class is generated with the prediction model defined above:"
   ]
  },
  {
   "cell_type": "code",
   "execution_count": 10,
   "metadata": {},
   "outputs": [],
   "source": [
    "mpc = do_mpc.controller.MPC(model)"
   ]
  },
  {
   "cell_type": "markdown",
   "metadata": {},
   "source": [
    "We choose the prediction horizon `n_horizon`, set the robust horizon `n_robust` to 0.\n",
    "It is possible to use the approximate MPC for robust MPC, but in its current only open-loop sampling can be used as a sampling strategy for the robust MPC.\n",
    "The time step `t_step` is set to 0.005h and parameters of the applied discretization scheme orthogonal collocation are as seen below:"
   ]
  },
  {
   "cell_type": "code",
   "execution_count": 11,
   "metadata": {},
   "outputs": [],
   "source": [
    "# Set settings of MPC:\n",
    "mpc.settings.n_horizon = 20\n",
    "mpc.settings.n_robust = 0\n",
    "mpc.settings.open_loop = 0\n",
    "mpc.settings.t_step = 0.005\n",
    "mpc.settings.state_discretization = 'collocation'\n",
    "mpc.settings.collocation_type = 'radau'\n",
    "mpc.settings.collocation_deg = 2\n",
    "mpc.settings.collocation_ni = 1\n",
    "mpc.settings.store_full_solution = True"
   ]
  },
  {
   "cell_type": "markdown",
   "metadata": {},
   "source": [
    "Because the magnitude of the states and inputs is very different, we introduce scaling factors:"
   ]
  },
  {
   "cell_type": "code",
   "execution_count": 12,
   "metadata": {},
   "outputs": [],
   "source": [
    "mpc.scaling['_x', 'T_R'] = 100\n",
    "mpc.scaling['_x', 'T_K'] = 100\n",
    "mpc.scaling['_u', 'Q_dot'] = 2000\n",
    "mpc.scaling['_u', 'F'] = 100"
   ]
  },
  {
   "cell_type": "markdown",
   "metadata": {},
   "source": [
    "### Objective\n",
    "\n",
    "The goal of the CSTR is to obtain a mixture with a concentration of $C_{\\text{B,ref}} = 0.6$ mol/l.\n",
    "Additionally, we add a penalty on input changes for both control inputs, to obtain a smooth control performance."
   ]
  },
  {
   "cell_type": "code",
   "execution_count": 13,
   "metadata": {},
   "outputs": [],
   "source": [
    "mterm = (model.x['C_b'] - 0.6)**2+(model.x['C_a'] - 0.7)**2\n",
    "lterm = (model.x['C_b'] - 0.6)**2+(model.x['C_a'] - 0.7)**2\n",
    "\n",
    "mpc.set_objective(mterm=mterm, lterm=lterm)\n",
    "\n",
    "mpc.set_rterm(F=0.1, Q_dot = 1e-3)"
   ]
  },
  {
   "cell_type": "markdown",
   "metadata": {},
   "source": [
    "### Constraints\n",
    "\n",
    "In the next step, the constraints of the control problem are set.\n",
    "In this case, there are only upper and lower bounds for each state and the input:"
   ]
  },
  {
   "cell_type": "code",
   "execution_count": 14,
   "metadata": {},
   "outputs": [],
   "source": [
    "# lower bounds of the states\n",
    "mpc.bounds['lower', '_x', 'C_a'] = 0.1\n",
    "mpc.bounds['lower', '_x', 'C_b'] = 0.1\n",
    "mpc.bounds['lower', '_x', 'T_R'] = 50\n",
    "mpc.bounds['lower', '_x', 'T_K'] = 50\n",
    "\n",
    "# upper bounds of the states\n",
    "mpc.bounds['upper', '_x', 'C_a'] = 2\n",
    "mpc.bounds['upper', '_x', 'C_b'] = 2\n",
    "mpc.bounds['upper', '_x', 'T_R'] = 140\n",
    "mpc.bounds['upper', '_x', 'T_K'] = 140\n",
    "\n",
    "# lower bounds of the inputs\n",
    "mpc.bounds['lower', '_u', 'F'] = 5\n",
    "mpc.bounds['lower', '_u', 'Q_dot'] = -8500\n",
    "\n",
    "# upper bounds of the inputs\n",
    "mpc.bounds['upper', '_u', 'F'] = 100\n",
    "mpc.bounds['upper', '_u', 'Q_dot'] = 0.0"
   ]
  },
  {
   "cell_type": "markdown",
   "metadata": {},
   "source": [
    "The setup of the MPC controller is concluded by:"
   ]
  },
  {
   "cell_type": "code",
   "execution_count": 15,
   "metadata": {},
   "outputs": [],
   "source": [
    "mpc.setup()"
   ]
  },
  {
   "cell_type": "markdown",
   "metadata": {},
   "source": [
    "## Estimator\n",
    "\n",
    "We assume, that all states can be directly measured (state-feedback):"
   ]
  },
  {
   "cell_type": "code",
   "execution_count": 16,
   "metadata": {},
   "outputs": [],
   "source": [
    "estimator = do_mpc.estimator.StateFeedback(model)"
   ]
  },
  {
   "cell_type": "markdown",
   "metadata": {},
   "source": [
    "## Simulator\n",
    "\n",
    "To create a simulator in order to run the approximate MPC in a closed-loop, we create an instance of the **do-mpc** simulator which is based on the same model:"
   ]
  },
  {
   "cell_type": "code",
   "execution_count": 17,
   "metadata": {},
   "outputs": [],
   "source": [
    "simulator = do_mpc.simulator.Simulator(model)"
   ]
  },
  {
   "cell_type": "markdown",
   "metadata": {},
   "source": [
    "For the simulation, we use the same time step `t_step` as for the optimizer:"
   ]
  },
  {
   "cell_type": "code",
   "execution_count": 18,
   "metadata": {},
   "outputs": [],
   "source": [
    "params_simulator = {\n",
    "        'integration_tool': 'cvodes',\n",
    "        'abstol': 1e-10,\n",
    "        'reltol': 1e-10,\n",
    "        't_step': 0.005\n",
    "    }\n",
    "\n",
    "simulator.set_param(**params_simulator)"
   ]
  },
  {
   "cell_type": "markdown",
   "metadata": {},
   "source": [
    "To finish the configuration of the simulator, call:"
   ]
  },
  {
   "cell_type": "code",
   "execution_count": 19,
   "metadata": {},
   "outputs": [],
   "source": [
    "simulator.setup()"
   ]
  },
  {
   "cell_type": "markdown",
   "metadata": {},
   "source": [
    "## Initialization of the MPC and Simulator\n",
    "\n",
    "For the initialization of the MPC configured for the CSTR, we inspect the file **main.py**.\n",
    "We define the initial state of the system and set it for all parts of the closed-loop configuration:"
   ]
  },
  {
   "cell_type": "code",
   "execution_count": 20,
   "metadata": {},
   "outputs": [],
   "source": [
    "# Set the initial state of mpc and simulator:\n",
    "C_a_0 = 0.8 # This is the initial concentration inside the tank [mol/l]\n",
    "C_b_0 = 0.5 # This is the controlled variable [mol/l]\n",
    "T_R_0 = 134.14 #[C]\n",
    "T_K_0 = 130.0 #[C]\n",
    "x0 = np.array([C_a_0, C_b_0, T_R_0, T_K_0]).reshape(-1,1)\n",
    "u0=np.array([[5],[0]])\n",
    "\n",
    "# pushing to class\n",
    "mpc.x0 = x0\n",
    "simulator.x0 = x0\n",
    "mpc.set_initial_guess()\n",
    "simulator.set_initial_guess()"
   ]
  },
  {
   "cell_type": "markdown",
   "metadata": {},
   "source": [
    "## Approximate MPC\n",
    "\n",
    "So far, we have only initialized our model, the MPC and the Simulator, which is similar to the usage of a MPC for controlling the system. In the next steps we have to configure our approximate MPC, the Sampler for generating training data and the Trainer for training the Approximate MPC.\n",
    "This three classes are the main components of the Approximate MPC. As it is standard in do-mpc, each of these classes can be configured using the settings of the respective class. After calling **setup()** the instance of the class is ready to be used.\n",
    "First, the Approximate MPC is configured. One member of the ApproximateMPC class is generated which is initialized with the MPC class defined above:"
   ]
  },
  {
   "cell_type": "code",
   "execution_count": 21,
   "metadata": {},
   "outputs": [],
   "source": [
    "approx_mpc = do_mpc.approximateMPC.ApproxMPC(mpc)"
   ]
  },
  {
   "cell_type": "markdown",
   "metadata": {},
   "source": [
    "Appropriate sizes for number of hidden layers `n_hidden_layers` and number of neurons per layer `n_neurons` are chosen in this example using the settings class. Note that default parameters of each settings parameter are provided.:"
   ]
  },
  {
   "cell_type": "code",
   "execution_count": 22,
   "metadata": {},
   "outputs": [],
   "source": [
    "approx_mpc.settings.n_hidden_layers = 3\n",
    "approx_mpc.settings.n_neurons = 50"
   ]
  },
  {
   "cell_type": "markdown",
   "metadata": {},
   "source": [
    "Other setting parameters for the approximate MPC include the activation function and the device on which the approximate MPC should run. The setup of the Approximate MPC controller is concluded by:"
   ]
  },
  {
   "cell_type": "code",
   "execution_count": 23,
   "metadata": {},
   "outputs": [
    {
     "name": "stdout",
     "output_type": "stream",
     "text": [
      "----------------------------------\n",
      "ApproxMPC(\n",
      "  (net): FeedforwardNN(\n",
      "    (layers): ModuleList(\n",
      "      (0): Linear(in_features=6, out_features=50, bias=True)\n",
      "      (1): ReLU()\n",
      "      (2): Linear(in_features=50, out_features=50, bias=True)\n",
      "      (3): ReLU()\n",
      "      (4): Linear(in_features=50, out_features=50, bias=True)\n",
      "      (5): ReLU()\n",
      "      (6): Linear(in_features=50, out_features=2, bias=True)\n",
      "    )\n",
      "  )\n",
      ")\n",
      "----------------------------------\n"
     ]
    },
    {
     "name": "stderr",
     "output_type": "stream",
     "text": [
      "c:\\Users\\naska\\anaconda3\\envs\\appx_mpc\\Lib\\site-packages\\torch\\utils\\_device.py:106: UserWarning: To copy construct from a tensor, it is recommended to use sourceTensor.clone().detach() or sourceTensor.clone().detach().requires_grad_(True), rather than torch.tensor(sourceTensor).\n",
      "  return func(*args, **kwargs)\n"
     ]
    }
   ],
   "source": [
    "approx_mpc.setup()"
   ]
  },
  {
   "cell_type": "markdown",
   "metadata": {},
   "source": [
    "## Sampler\n",
    "\n",
    "Next, a Sampler is configured. This class is used to generate training data for Approximate MPC.\n",
    "It uses the already established sampling planner of do-mpc, son in case you want to take a deep dive into generating data with do-mpc, you can revisit the respective example. This class also needs to be initialized with the MPC class as it uses the MPC to generate the training data."
   ]
  },
  {
   "cell_type": "code",
   "execution_count": 24,
   "metadata": {},
   "outputs": [],
   "source": [
    "sampler = do_mpc.approximateMPC.Sampler(mpc)"
   ]
  },
  {
   "cell_type": "markdown",
   "metadata": {},
   "source": [
    "Next, the Sampler settings are configured. Currently, we support two sampling approaches, the open-loop standard sampling, where **n_samples** random data is sampled within the bounds of the MPC. The `closed_loop_flag` can be used to use a closed-loop sampling approach where closed loop trajectories of the length **trajectory_length**. Note that now **n_samples*trajectory_length** sampling data points are generated. The default `trajectory_length` is set to `5`. Again, these parameters are set through the settings class."
   ]
  },
  {
   "cell_type": "code",
   "execution_count": 25,
   "metadata": {},
   "outputs": [],
   "source": [
    "sampler.settings.closed_loop_flag = True\n",
    "sampler.settings.trajectory_length = 10\n",
    "n_samples=100\n",
    "sampler.settings.n_samples = n_samples"
   ]
  },
  {
   "cell_type": "markdown",
   "metadata": {},
   "source": [
    "The location `data_dir` where the sampled data will be stored can be set as well"
   ]
  },
  {
   "cell_type": "code",
   "execution_count": 26,
   "metadata": {},
   "outputs": [],
   "source": [
    "data_dir= './sampled_data_notebook'\n",
    "sampler.settings.data_dir = data_dir"
   ]
  },
  {
   "cell_type": "markdown",
   "metadata": {},
   "source": [
    "The setup of the Sampler class is concluded by:"
   ]
  },
  {
   "cell_type": "code",
   "execution_count": 27,
   "metadata": {},
   "outputs": [],
   "source": [
    "sampler.setup()"
   ]
  },
  {
   "cell_type": "markdown",
   "metadata": {},
   "source": [
    "The Sampler is now used to generate the sample data on which the ApproximateMPC will be trained further. for this a default sampling plan is used. This iteratively calculates the training data, so depending on `n_samples` and the complexity of the MPC controller, it might take a while. (The output of the MPC is suppressed with the magic command `%%capture`)"
   ]
  },
  {
   "cell_type": "code",
   "execution_count": 28,
   "metadata": {},
   "outputs": [],
   "source": [
    "%%capture\n",
    "sampler.default_sampling()"
   ]
  },
  {
   "cell_type": "markdown",
   "metadata": {},
   "source": [
    "## Trainer\n",
    "\n",
    "Next, a Trainer is configured. The Trainer is used to train the approximate MPC on the generated training data. Therefore, the Trainer is initialized with the ApproximateMPC class:"
   ]
  },
  {
   "cell_type": "code",
   "execution_count": 37,
   "metadata": {},
   "outputs": [],
   "source": [
    "trainer = do_mpc.approximateMPC.Trainer(approx_mpc)"
   ]
  },
  {
   "cell_type": "markdown",
   "metadata": {},
   "source": [
    "Next the trainer setting parameters are configured. Make sure to set the right direction for the training data, which is done by setting the `data_dir` and the right sampling value:"
   ]
  },
  {
   "cell_type": "code",
   "execution_count": 38,
   "metadata": {},
   "outputs": [],
   "source": [
    "trainer.settings.data_dir = data_dir\n",
    "trainer.settings.n_samples = n_samples"
   ]
  },
  {
   "cell_type": "markdown",
   "metadata": {},
   "source": [
    "We now set the hyper-parameters for the training of the approximate MPC such as `n_epochs`. The Trainer also can use the learning rate scheduler of Pytorch for which the parameters can be set with the `scheduler_settings`. This can improve the training performance when hitting a plateau, by reducing the learning rate, so that the loss does not oscillate around the optimal point."
   ]
  },
  {
   "cell_type": "code",
   "execution_count": 39,
   "metadata": {},
   "outputs": [],
   "source": [
    "trainer.settings.n_epochs = 1000\n",
    "trainer.settings.scheduler_flag = True\n",
    "trainer.scheduler_settings.cooldown = 0\n",
    "trainer.scheduler_settings.patience = 10"
   ]
  },
  {
   "cell_type": "markdown",
   "metadata": {},
   "source": [
    "To display and save the performance of the training, the following flags may be set:"
   ]
  },
  {
   "cell_type": "code",
   "execution_count": 40,
   "metadata": {},
   "outputs": [],
   "source": [
    "trainer.settings.show_fig =True\n",
    "trainer.settings.save_fig = True\n",
    "trainer.settings.save_history = True"
   ]
  },
  {
   "cell_type": "markdown",
   "metadata": {},
   "source": [
    "The location where the samples data is stored is provided with `results_dir`:"
   ]
  },
  {
   "cell_type": "code",
   "execution_count": 41,
   "metadata": {},
   "outputs": [],
   "source": [
    "trainer.settings.results_dir = './training_results_notebook'"
   ]
  },
  {
   "cell_type": "markdown",
   "metadata": {},
   "source": [
    "Finally, the trainer is setup:"
   ]
  },
  {
   "cell_type": "code",
   "execution_count": 42,
   "metadata": {},
   "outputs": [],
   "source": [
    "trainer.setup()"
   ]
  },
  {
   "cell_type": "markdown",
   "metadata": {},
   "source": [
    "The training process is initiated:"
   ]
  },
  {
   "cell_type": "code",
   "execution_count": 43,
   "metadata": {},
   "outputs": [
    {
     "name": "stdout",
     "output_type": "stream",
     "text": [
      "Path from trainer to sampled files\n",
      " sampled_data_notebook\\data_n100_opt.pkl\n"
     ]
    },
    {
     "name": "stderr",
     "output_type": "stream",
     "text": [
      "c:\\Users\\naska\\anaconda3\\envs\\appx_mpc\\Lib\\site-packages\\torch\\utils\\_device.py:106: UserWarning: Creating a tensor from a list of numpy.ndarrays is extremely slow. Please consider converting the list to a single numpy.ndarray with numpy.array() before converting to a tensor. (Triggered internally at C:\\actions-runner\\_work\\pytorch\\pytorch\\builder\\windows\\pytorch\\torch\\csrc\\utils\\tensor_new.cpp:281.)\n",
      "  return func(*args, **kwargs)\n"
     ]
    },
    {
     "name": "stdout",
     "output_type": "stream",
     "text": [
      "epoch :  9\n",
      "train_loss :  0.17400553822517395\n",
      "val_loss :  0.15569336712360382\n",
      "-------------------------------\n",
      "epoch :  19\n",
      "train_loss :  0.019921500235795975\n",
      "val_loss :  0.015538671985268593\n",
      "-------------------------------\n",
      "epoch :  29\n",
      "train_loss :  0.02412882260978222\n",
      "val_loss :  0.02556605450809002\n",
      "-------------------------------\n",
      "epoch :  39\n",
      "train_loss :  0.008910160511732101\n",
      "val_loss :  0.012156292796134949\n",
      "-------------------------------\n",
      "epoch :  49\n",
      "train_loss :  0.007929233834147453\n",
      "val_loss :  0.011301107704639435\n",
      "-------------------------------\n",
      "epoch :  59\n",
      "train_loss :  0.00784616731107235\n",
      "val_loss :  0.011225066147744656\n",
      "-------------------------------\n",
      "epoch :  69\n",
      "train_loss :  0.00783732533454895\n",
      "val_loss :  0.011216791346669197\n",
      "-------------------------------\n",
      "epoch :  79\n",
      "train_loss :  0.007836331613361835\n",
      "val_loss :  0.01121585164219141\n",
      "-------------------------------\n",
      "epoch :  89\n",
      "train_loss :  0.007836250588297844\n",
      "val_loss :  0.01121576689183712\n",
      "-------------------------------\n",
      "epoch :  99\n",
      "train_loss :  0.00783616490662098\n",
      "val_loss :  0.011215676553547382\n",
      "-------------------------------\n",
      "epoch :  109\n",
      "train_loss :  0.007836074568331242\n",
      "val_loss :  0.011215582489967346\n",
      "-------------------------------\n",
      "epoch :  119\n",
      "train_loss :  0.007835977710783482\n",
      "val_loss :  0.011215481907129288\n",
      "-------------------------------\n",
      "epoch :  129\n",
      "train_loss :  0.007835876196622849\n",
      "val_loss :  0.011215376667678356\n",
      "-------------------------------\n",
      "epoch :  139\n",
      "train_loss :  0.007835769094526768\n",
      "val_loss :  0.011215264908969402\n",
      "-------------------------------\n",
      "epoch :  149\n",
      "train_loss :  0.007835658267140388\n",
      "val_loss :  0.011215147562325\n",
      "-------------------------------\n",
      "epoch :  159\n",
      "train_loss :  0.007835542783141136\n",
      "val_loss :  0.0112150264903903\n",
      "-------------------------------\n",
      "epoch :  169\n",
      "train_loss :  0.00783542450517416\n",
      "val_loss :  0.011214902624487877\n",
      "-------------------------------\n",
      "epoch :  179\n",
      "train_loss :  0.007835302501916885\n",
      "val_loss :  0.01121477596461773\n",
      "-------------------------------\n",
      "epoch :  189\n",
      "train_loss :  0.007835176773369312\n",
      "val_loss :  0.011214641854166985\n",
      "-------------------------------\n",
      "epoch :  199\n",
      "train_loss :  0.00783504731953144\n",
      "val_loss :  0.01121450588107109\n",
      "-------------------------------\n",
      "epoch :  209\n",
      "train_loss :  0.007834915071725845\n",
      "val_loss :  0.011214367114007473\n",
      "-------------------------------\n",
      "epoch :  219\n",
      "train_loss :  0.007834780029952526\n",
      "val_loss :  0.011214224621653557\n",
      "-------------------------------\n",
      "epoch :  229\n",
      "train_loss :  0.007834642194211483\n",
      "val_loss :  0.011214079335331917\n",
      "-------------------------------\n",
      "epoch :  239\n",
      "train_loss :  0.007834503427147865\n",
      "val_loss :  0.011213932186365128\n",
      "-------------------------------\n",
      "epoch :  249\n",
      "train_loss :  0.007834361866116524\n",
      "val_loss :  0.011213783174753189\n",
      "-------------------------------\n",
      "epoch :  259\n",
      "train_loss :  0.007834219373762608\n",
      "val_loss :  0.011213632300496101\n",
      "-------------------------------\n",
      "epoch :  269\n",
      "train_loss :  0.007834073156118393\n",
      "val_loss :  0.01121347863227129\n",
      "-------------------------------\n",
      "epoch :  279\n",
      "train_loss :  0.007833924144506454\n",
      "val_loss :  0.011213322170078754\n",
      "-------------------------------\n",
      "epoch :  289\n",
      "train_loss :  0.007833773270249367\n",
      "val_loss :  0.011213161051273346\n",
      "-------------------------------\n",
      "epoch :  299\n",
      "train_loss :  0.00783362053334713\n",
      "val_loss :  0.011213000863790512\n",
      "-------------------------------\n",
      "epoch :  309\n",
      "train_loss :  0.007833465002477169\n",
      "val_loss :  0.01121283695101738\n",
      "-------------------------------\n",
      "epoch :  319\n",
      "train_loss :  0.007833306677639484\n",
      "val_loss :  0.011212672106921673\n",
      "-------------------------------\n",
      "epoch :  329\n",
      "train_loss :  0.00783314649015665\n",
      "val_loss :  0.011212503537535667\n",
      "-------------------------------\n",
      "epoch :  339\n",
      "train_loss :  0.007832987233996391\n",
      "val_loss :  0.011212333105504513\n",
      "-------------------------------\n",
      "epoch :  349\n",
      "train_loss :  0.007832820527255535\n",
      "val_loss :  0.01121215894818306\n",
      "-------------------------------\n",
      "epoch :  359\n",
      "train_loss :  0.007832653820514679\n",
      "val_loss :  0.011211981996893883\n",
      "-------------------------------\n",
      "epoch :  369\n",
      "train_loss :  0.007832485251128674\n",
      "val_loss :  0.011211805045604706\n",
      "-------------------------------\n",
      "epoch :  379\n",
      "train_loss :  0.007832312025129795\n",
      "val_loss :  0.011211619712412357\n",
      "-------------------------------\n",
      "epoch :  389\n",
      "train_loss :  0.007832137867808342\n",
      "val_loss :  0.011211436241865158\n",
      "-------------------------------\n",
      "epoch :  399\n",
      "train_loss :  0.00783195998519659\n",
      "val_loss :  0.01121124904602766\n",
      "-------------------------------\n",
      "epoch :  409\n",
      "train_loss :  0.00783178023993969\n",
      "val_loss :  0.011211059056222439\n",
      "-------------------------------\n",
      "epoch :  419\n",
      "train_loss :  0.007831594906747341\n",
      "val_loss :  0.011210864409804344\n",
      "-------------------------------\n",
      "epoch :  429\n",
      "train_loss :  0.007831408642232418\n",
      "val_loss :  0.011210666969418526\n",
      "-------------------------------\n",
      "epoch :  439\n",
      "train_loss :  0.007831220515072346\n",
      "val_loss :  0.011210468597710133\n",
      "-------------------------------\n",
      "epoch :  449\n",
      "train_loss :  0.007831032387912273\n",
      "val_loss :  0.01121027022600174\n",
      "-------------------------------\n",
      "epoch :  459\n",
      "train_loss :  0.007830843329429626\n",
      "val_loss :  0.011210067197680473\n",
      "-------------------------------\n",
      "epoch :  469\n",
      "train_loss :  0.007830649614334106\n",
      "val_loss :  0.011209864169359207\n",
      "-------------------------------\n",
      "epoch :  479\n",
      "train_loss :  0.007830456830561161\n",
      "val_loss :  0.011209659278392792\n",
      "-------------------------------\n",
      "epoch :  489\n",
      "train_loss :  0.007830262184143066\n",
      "val_loss :  0.011209452524781227\n",
      "-------------------------------\n",
      "epoch :  499\n",
      "train_loss :  0.007830065675079823\n",
      "val_loss :  0.011209243908524513\n",
      "-------------------------------\n",
      "epoch :  509\n",
      "train_loss :  0.00782986544072628\n",
      "val_loss :  0.011209032498300076\n",
      "-------------------------------\n",
      "epoch :  519\n",
      "train_loss :  0.007829667069017887\n",
      "val_loss :  0.011208821088075638\n",
      "-------------------------------\n",
      "epoch :  529\n",
      "train_loss :  0.00782946590334177\n",
      "val_loss :  0.0112086096778512\n",
      "-------------------------------\n",
      "epoch :  539\n",
      "train_loss :  0.007829264737665653\n",
      "val_loss :  0.011208396404981613\n",
      "-------------------------------\n",
      "epoch :  549\n",
      "train_loss :  0.007829061709344387\n",
      "val_loss :  0.011208179406821728\n",
      "-------------------------------\n",
      "epoch :  559\n",
      "train_loss :  0.007828857749700546\n",
      "val_loss :  0.011207963339984417\n",
      "-------------------------------\n",
      "epoch :  569\n",
      "train_loss :  0.00782865285873413\n",
      "val_loss :  0.011207746341824532\n",
      "-------------------------------\n",
      "epoch :  579\n",
      "train_loss :  0.00782844889909029\n",
      "val_loss :  0.011207528412342072\n",
      "-------------------------------\n",
      "epoch :  589\n",
      "train_loss :  0.00782824121415615\n",
      "val_loss :  0.011207310482859612\n",
      "-------------------------------\n",
      "epoch :  599\n",
      "train_loss :  0.007828030735254288\n",
      "val_loss :  0.011207085102796555\n",
      "-------------------------------\n",
      "epoch :  609\n",
      "train_loss :  0.0078278174623847\n",
      "val_loss :  0.011206859722733498\n",
      "-------------------------------\n",
      "epoch :  619\n",
      "train_loss :  0.00782759953290224\n",
      "val_loss :  0.01120662596076727\n",
      "-------------------------------\n",
      "epoch :  629\n",
      "train_loss :  0.007827379740774632\n",
      "val_loss :  0.011206393130123615\n",
      "-------------------------------\n",
      "epoch :  639\n",
      "train_loss :  0.007827157154679298\n",
      "val_loss :  0.011206158436834812\n",
      "-------------------------------\n",
      "epoch :  649\n",
      "train_loss :  0.007826930843293667\n",
      "val_loss :  0.011205915361642838\n",
      "-------------------------------\n",
      "epoch :  659\n",
      "train_loss :  0.007826697081327438\n",
      "val_loss :  0.011205666698515415\n",
      "-------------------------------\n",
      "epoch :  669\n",
      "train_loss :  0.007826460525393486\n",
      "val_loss :  0.011205416172742844\n",
      "-------------------------------\n",
      "epoch :  679\n",
      "train_loss :  0.007826223969459534\n",
      "val_loss :  0.011205162853002548\n",
      "-------------------------------\n",
      "epoch :  689\n",
      "train_loss :  0.007825985550880432\n",
      "val_loss :  0.011204910464584827\n",
      "-------------------------------\n",
      "epoch :  699\n",
      "train_loss :  0.00782574899494648\n",
      "val_loss :  0.011204656213521957\n",
      "-------------------------------\n",
      "epoch :  709\n",
      "train_loss :  0.007825509645044804\n",
      "val_loss :  0.011204403825104237\n",
      "-------------------------------\n",
      "epoch :  719\n",
      "train_loss :  0.007825270295143127\n",
      "val_loss :  0.011204148642718792\n",
      "-------------------------------\n",
      "epoch :  729\n",
      "train_loss :  0.007825030013918877\n",
      "val_loss :  0.011203893460333347\n",
      "-------------------------------\n",
      "epoch :  739\n",
      "train_loss :  0.007824789732694626\n",
      "val_loss :  0.011203637346625328\n",
      "-------------------------------\n",
      "epoch :  749\n",
      "train_loss :  0.007824549451470375\n",
      "val_loss :  0.01120337937027216\n",
      "-------------------------------\n",
      "epoch :  759\n",
      "train_loss :  0.007824307307600975\n",
      "val_loss :  0.011203122325241566\n",
      "-------------------------------\n",
      "epoch :  769\n",
      "train_loss :  0.00782406609505415\n",
      "val_loss :  0.011202865280210972\n",
      "-------------------------------\n",
      "epoch :  779\n",
      "train_loss :  0.0078238220885396\n",
      "val_loss :  0.011202607303857803\n",
      "-------------------------------\n",
      "epoch :  789\n",
      "train_loss :  0.007823579013347626\n",
      "val_loss :  0.01120234839618206\n",
      "-------------------------------\n",
      "epoch :  799\n",
      "train_loss :  0.007823334075510502\n",
      "val_loss :  0.011202084831893444\n",
      "-------------------------------\n",
      "epoch :  809\n",
      "train_loss :  0.007823088206350803\n",
      "val_loss :  0.011201826855540276\n",
      "-------------------------------\n",
      "epoch :  819\n",
      "train_loss :  0.007822842337191105\n",
      "val_loss :  0.011201562359929085\n",
      "-------------------------------\n",
      "epoch :  829\n",
      "train_loss :  0.007822595536708832\n",
      "val_loss :  0.011201298795640469\n",
      "-------------------------------\n",
      "epoch :  839\n",
      "train_loss :  0.007822345942258835\n",
      "val_loss :  0.011201034300029278\n",
      "-------------------------------\n",
      "epoch :  849\n",
      "train_loss :  0.007822098210453987\n",
      "val_loss :  0.011200768873095512\n",
      "-------------------------------\n",
      "epoch :  859\n",
      "train_loss :  0.00782184861600399\n",
      "val_loss :  0.011200501583516598\n",
      "-------------------------------\n",
      "epoch :  869\n",
      "train_loss :  0.00782159622758627\n",
      "val_loss :  0.011200234293937683\n",
      "-------------------------------\n",
      "epoch :  879\n",
      "train_loss :  0.007821344770491123\n",
      "val_loss :  0.011199966073036194\n",
      "-------------------------------\n",
      "epoch :  889\n",
      "train_loss :  0.007821093313395977\n",
      "val_loss :  0.011199697852134705\n",
      "-------------------------------\n",
      "epoch :  899\n",
      "train_loss :  0.007820839993655682\n",
      "val_loss :  0.01119942869991064\n",
      "-------------------------------\n",
      "epoch :  909\n",
      "train_loss :  0.00782058760523796\n",
      "val_loss :  0.011199158616364002\n",
      "-------------------------------\n",
      "epoch :  919\n",
      "train_loss :  0.00782033335417509\n",
      "val_loss :  0.011198888532817364\n",
      "-------------------------------\n",
      "epoch :  929\n",
      "train_loss :  0.007820080034434795\n",
      "val_loss :  0.011198618449270725\n",
      "-------------------------------\n",
      "epoch :  939\n",
      "train_loss :  0.007819825783371925\n",
      "val_loss :  0.011198347434401512\n",
      "-------------------------------\n",
      "epoch :  949\n",
      "train_loss :  0.00781957060098648\n",
      "val_loss :  0.011198073625564575\n",
      "-------------------------------\n",
      "epoch :  959\n",
      "train_loss :  0.007819314487278461\n",
      "val_loss :  0.011197801679372787\n",
      "-------------------------------\n",
      "epoch :  969\n",
      "train_loss :  0.007819059304893017\n",
      "val_loss :  0.011197529733181\n",
      "-------------------------------\n",
      "epoch :  979\n",
      "train_loss :  0.007818802259862423\n",
      "val_loss :  0.011197254061698914\n",
      "-------------------------------\n",
      "epoch :  989\n",
      "train_loss :  0.007818542420864105\n",
      "val_loss :  0.011196979321539402\n",
      "-------------------------------\n",
      "epoch :  999\n",
      "train_loss :  0.007818284444510937\n",
      "val_loss :  0.011196703650057316\n",
      "-------------------------------\n"
     ]
    },
    {
     "data": {
      "image/png": "[encoded data removed]",
      "text/plain": [
       "<Figure size 800x600 with 2 Axes>"
      ]
     },
     "metadata": {},
     "output_type": "display_data"
    }
   ],
   "source": [
    "trainer.default_training()"
   ]
  },
  {
   "cell_type": "markdown",
   "metadata": {},
   "source": [
    "# Closed loop simulation\n",
    "\n",
    "Now all we are ready for simulating the system with the newly trained approximate MPC controller, for 50 steps. As for the MPC the `make_step` function of the approximate MPC is used where instead of solving an optimization problem the pre-trained neural network is evaluated. It is possible to clip the control inputs to the bounds of the MPC controller with the flag `clip_to_bounds=True`.\n",
    "\n",
    "When `clip_to_bounds=True`, the inputs are forced to be within the set upper boundary and the set lower boundary, ensuring that no matter what, the inputs are within permissible bounds."
   ]
  },
  {
   "cell_type": "code",
   "execution_count": 44,
   "metadata": {},
   "outputs": [],
   "source": [
    "sim_time = 50\n",
    "for k in range(sim_time):\n",
    "    u0 = approx_mpc.make_step(x0, clip_to_bounds=True)\n",
    "    y_next = simulator.make_step(u0)\n",
    "    x0 = estimator.make_step(y_next)"
   ]
  },
  {
   "cell_type": "markdown",
   "metadata": {},
   "source": [
    "## Closed loop Evaluation of the ApproximateMPC\n",
    "\n",
    "To animate the results, we first configure the **do-mpc** graphics object, which is initiated with the respective data object:\n",
    "\n",
    "Here we use simulator.data, since the simulator consists of the class which stores the data which can be extracted. As a contrast, the data from the mpc class cannot be used, since in the main simulation loop, mpc class is not used."
   ]
  },
  {
   "cell_type": "code",
   "execution_count": 45,
   "metadata": {},
   "outputs": [],
   "source": [
    "sim_graphics = do_mpc.graphics.Graphics(simulator.data)"
   ]
  },
  {
   "cell_type": "markdown",
   "metadata": {},
   "source": [
    "We then create a figure, configure which lines to plot on which axis and add labels."
   ]
  },
  {
   "cell_type": "code",
   "execution_count": 46,
   "metadata": {},
   "outputs": [
    {
     "data": {
      "text/plain": [
       "Text(0.5, 0, 'time [h]')"
      ]
     },
     "execution_count": 46,
     "metadata": {},
     "output_type": "execute_result"
    },
    {
     "data": {
      "image/png": "[encoded data removed]",
      "text/plain": [
       "<Figure size 1600x1200 with 5 Axes>"
      ]
     },
     "metadata": {},
     "output_type": "display_data"
    }
   ],
   "source": [
    "import matplotlib.pyplot as plt\n",
    "\n",
    "fig, ax = plt.subplots(5, sharex=True, figsize=(16,12))\n",
    "# Configure plot:\n",
    "sim_graphics.add_line(var_type='_x', var_name='C_a', axis=ax[0])\n",
    "sim_graphics.add_line(var_type='_x', var_name='C_b', axis=ax[0])\n",
    "sim_graphics.add_line(var_type='_x', var_name='T_R', axis=ax[1])\n",
    "sim_graphics.add_line(var_type='_x', var_name='T_K', axis=ax[1])\n",
    "sim_graphics.add_line(var_type='_aux', var_name='T_dif', axis=ax[2])\n",
    "sim_graphics.add_line(var_type='_u', var_name='Q_dot', axis=ax[3])\n",
    "sim_graphics.add_line(var_type='_u', var_name='F', axis=ax[4])\n",
    "ax[0].set_ylabel('c [mol/l]')\n",
    "ax[1].set_ylabel('T [K]')\n",
    "ax[2].set_ylabel('$\\Delta$ T [K]')\n",
    "ax[3].set_ylabel('Q [kW]')\n",
    "ax[4].set_ylabel('Flow [l/h]')\n",
    "ax[4].set_xlabel('time [h]')"
   ]
  },
  {
   "cell_type": "markdown",
   "metadata": {},
   "source": [
    "Some \"cosmetic\" modifications are easily achieved with the structure ``result_lines``."
   ]
  },
  {
   "cell_type": "code",
   "execution_count": 47,
   "metadata": {},
   "outputs": [],
   "source": [
    "# Add labels\n",
    "label_lines = sim_graphics.result_lines['_x', 'C_a']+sim_graphics.result_lines['_x', 'C_b']\n",
    "ax[0].legend(label_lines, ['C_a', 'C_b'])\n",
    "label_lines = sim_graphics.result_lines['_x', 'T_R']+sim_graphics.result_lines['_x', 'T_K']\n",
    "ax[1].legend(label_lines, ['T_R', 'T_K'])\n",
    "\n",
    "fig.align_ylabels()"
   ]
  },
  {
   "cell_type": "markdown",
   "metadata": {},
   "source": [
    "![cstranim](anim_appxCSTR_nb.gif \"cstr\")"
   ]
  }
 ],
 "metadata": {
  "kernelspec": {
   "display_name": "appx_mpc",
   "language": "python",
   "name": "python3"
  },
  "language_info": {
   "codemirror_mode": {
    "name": "ipython",
    "version": 3
   },
   "file_extension": ".py",
   "mimetype": "text/x-python",
   "name": "python",
   "nbconvert_exporter": "python",
   "pygments_lexer": "ipython3",
   "version": "3.11.10"
  }
 },
 "nbformat": 4,
 "nbformat_minor": 2
}
