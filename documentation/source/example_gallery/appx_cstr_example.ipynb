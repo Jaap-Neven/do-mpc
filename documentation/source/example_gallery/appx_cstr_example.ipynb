{
 "cells": [
  {
   "cell_type": "markdown",
   "metadata": {},
   "source": [
    "# Approximate MPC with CSTR\n",
    "\n",
    "In this Jupyter Notebook, we illustrate the example **Approximate MPC with CSTR**.\n",
    "\n",
    "This example is an extension of the CSTR example and consists of three modules: **template_model.py**, which describes the system model; **template_mpc.py**, which defines the settings for the controller we want to approximate; and **template_simulator.py**, which sets the parameters for the simulator. In the **main.py** file, we introduce the concept of approximate MPC by generating training data, training on that data, and finally performing a closed-loop evaluation.\n",
    "\n",
    "In the following sections, each part is presented. We begin by importing basic modules and **do-mpc**."
   ]
  },
  {
   "cell_type": "code",
   "execution_count": 1,
   "metadata": {},
   "outputs": [
    {
     "name": "stderr",
     "output_type": "stream",
     "text": [
      "C:\\Users\\smjsadam\\Documents\\Job\\Forschung\\Code\\do-mpc_approx_mpc\\do_mpc\\sysid\\__init__.py:15: UserWarning: The ONNX feature is not available. Please install the full version of do-mpc to access this feature.\n",
      "  warnings.warn('The ONNX feature is not available. Please install the full version of do-mpc to access this feature.')\n",
      "C:\\Users\\smjsadam\\Documents\\Job\\Forschung\\Code\\do-mpc_approx_mpc\\do_mpc\\opcua\\__init__.py:14: UserWarning: The opcua feature is not available. Please install the full version of do-mpc to access this feature.\n",
      "  warnings.warn('The opcua feature is not available. Please install the full version of do-mpc to access this feature.')\n"
     ]
    }
   ],
   "source": [
    "import torch\n",
    "from casadi.tools import *\n",
    "import sys\n",
    "import os\n",
    "\n",
    "# Add do_mpc to path. This is not necessary if it was installed via pip\n",
    "rel_do_mpc_path = os.path.join('..', '..','..')\n",
    "sys.path.append(rel_do_mpc_path)\n",
    "\n",
    "# Import do_mpc package:\n",
    "import do_mpc\n",
    "\n",
    "\n",
    "import matplotlib.pyplot as plt"
   ]
  },
  {
   "cell_type": "markdown",
   "metadata": {},
   "source": [
    "## Model"
   ]
  },
  {
   "cell_type": "markdown",
   "metadata": {},
   "source": [
    "In the following we will present the configuration, setup and connection between these blocks, starting with the `model`.\n",
    "The considered model of the CSTR is continuous and has 4 states and 2 control inputs.\n",
    "The model is initiated by:"
   ]
  },
  {
   "cell_type": "code",
   "execution_count": 2,
   "metadata": {},
   "outputs": [],
   "source": [
    "model_type = 'continuous' # either 'discrete' or 'continuous'\n",
    "model = do_mpc.model.Model(model_type)"
   ]
  },
  {
   "cell_type": "markdown",
   "metadata": {},
   "source": [
    "### States and control inputs\n",
    "\n",
    "The four states are concentration of reactant A ($C_{\\text{A}}$), the concentration of reactant B ($C_{\\text{B}}$), the temperature inside the reactor ($T_{\\text{R}}$) and the temperature of the cooling jacket ($T_{\\text{K}}$):"
   ]
  },
  {
   "cell_type": "code",
   "execution_count": 3,
   "metadata": {},
   "outputs": [],
   "source": [
    "# States struct (optimization variables):\n",
    "C_a = model.set_variable(var_type='_x', var_name='C_a', shape=(1,1))\n",
    "C_b = model.set_variable(var_type='_x', var_name='C_b', shape=(1,1))\n",
    "T_R = model.set_variable(var_type='_x', var_name='T_R', shape=(1,1))\n",
    "T_K = model.set_variable(var_type='_x', var_name='T_K', shape=(1,1))"
   ]
  },
  {
   "cell_type": "markdown",
   "metadata": {},
   "source": [
    "The control inputs are the feed $F$ and the heat flow $\\dot{Q}$:"
   ]
  },
  {
   "cell_type": "code",
   "execution_count": 4,
   "metadata": {},
   "outputs": [],
   "source": [
    "# Input struct (optimization variables):\n",
    "F = model.set_variable(var_type='_u', var_name='F')\n",
    "Q_dot = model.set_variable(var_type='_u', var_name='Q_dot')"
   ]
  },
  {
   "cell_type": "markdown",
   "metadata": {},
   "source": [
    "### ODE and parameters\n",
    "\n",
    "The system model is described by the ordinary differential equation:\n",
    "\n",
    "\\begin{align}\n",
    "\\dot{C}_{\\text{A}} &= F \\cdot (C_{\\text{A},0} - C_{\\text{A}}) - k_1 \\cdot C_{\\text{A}} - k_3 \\cdot C_{\\text{A}}^2, \\\\\n",
    "\\dot{C}_{\\text{B}} &= -F \\cdot C_{\\text{B}} + k_1 \\cdot C_{\\text{A}} - k_2 \\cdot C_{\\text{B}}, \\\\\n",
    "\\dot{T}_{\\text{R}} &= \\frac{k_1 \\cdot C_{\\text{A}} \\cdot H_{\\text{R},ab} + k_2 \\cdot C_{\\text{B}} \\cdot  H_{\\text{R},bc} + k_3 \\cdot C_{\\text{A}}^2 \\cdot H_{\\text{R},ad}} {-\\rho \\cdot c_p}\\\\\n",
    "&+ F \\cdot (T_{\\text{in}} - T_{\\text{R}}) + \\frac{K_w \\cdot A_{\\text{R}} \\cdot(T_{\\text{K}}-T_{\\text{R}})}{\\rho \\cdot c_p \\cdot V_{\\text{R}}}, \\\\\n",
    "\\dot{T}_{\\text{K}} &= \\frac{\\dot{Q} + K_w \\cdot A_{\\text{R}} \\cdot T_{\\text{dif}}}{m_k \\cdot C_{p,k}},\n",
    "\\end{align}\n",
    "\n",
    "where\n",
    "\n",
    "\\begin{align}\n",
    "k_1 &= \\beta \\cdot k_{0,\\text{ab}} \\cdot \\exp\\left(\\frac{-E_{\\text{A},\\text{ab}}}{T_{\\text{R}}+273.15}\\right), \\\\\n",
    "k_2 &= k_{0,\\text{bc}} \\cdot \\exp \\left( \\frac{-E_{\\text{A},\\text{bc}}}{T_{\\text{R}}+273.15} \\right), \\\\\n",
    "k_3 &= k_{0,\\text{ad}} \\cdot \\exp \\left( \\frac{-\\alpha \\cdot E_{\\text{A},\\text{ad}}}{T_{\\text{R}}+273.15} \\right).\n",
    "\\end{align}"
   ]
  },
  {
   "cell_type": "code",
   "execution_count": 5,
   "metadata": {},
   "outputs": [],
   "source": [
    "# Certain parameters\n",
    "K0_ab = 1.287e12 # K0 [h^-1]\n",
    "K0_bc = 1.287e12 # K0 [h^-1]\n",
    "K0_ad = 9.043e9 # K0 [l/mol.h]\n",
    "R_gas = 8.3144621e-3 # Universal gas constant\n",
    "E_A_ab = 9758.3*1.00 #* R_gas# [kj/mol]\n",
    "E_A_bc = 9758.3*1.00 #* R_gas# [kj/mol]\n",
    "E_A_ad = 8560.0*1.0 #* R_gas# [kj/mol]\n",
    "H_R_ab = 4.2 # [kj/mol A]\n",
    "H_R_bc = -11.0 # [kj/mol B] Exothermic\n",
    "H_R_ad = -41.85 # [kj/mol A] Exothermic\n",
    "Rou = 0.9342 # Density [kg/l]\n",
    "Cp = 3.01 # Specific Heat capacity [kj/Kg.K]\n",
    "Cp_k = 2.0 # Coolant heat capacity [kj/kg.k]\n",
    "A_R = 0.215 # Area of reactor wall [m^2]\n",
    "V_R = 10.01 #0.01 # Volume of reactor [l]\n",
    "m_k = 5.0 # Coolant mass[kg]\n",
    "T_in = 130.0 # Temp of inflow [Celsius]\n",
    "K_w = 4032.0 # [kj/h.m^2.K]\n",
    "C_A0 = (5.7+4.5)/2.0*1.0 # Concentration of A in input Upper bound 5.7 lower bound 4.5 [mol/l]\n",
    "alpha=1\n",
    "beta=1\n"
   ]
  },
  {
   "cell_type": "markdown",
   "metadata": {},
   "source": [
    "In the next step, we formulate the $k_i$-s:"
   ]
  },
  {
   "cell_type": "code",
   "execution_count": 6,
   "metadata": {},
   "outputs": [],
   "source": [
    "# Auxiliary terms\n",
    "K_1 = beta * K0_ab * exp((-E_A_ab)/((T_R+273.15)))\n",
    "K_2 =  K0_bc * exp((-E_A_bc)/((T_R+273.15)))\n",
    "K_3 = K0_ad * exp((-alpha*E_A_ad)/((T_R+273.15)))"
   ]
  },
  {
   "cell_type": "markdown",
   "metadata": {},
   "source": [
    "Additionally, we define an artificial variable of interest, that is not a state of the system, but will be later used for plotting:"
   ]
  },
  {
   "cell_type": "code",
   "execution_count": 7,
   "metadata": {},
   "outputs": [],
   "source": [
    "T_dif = model.set_expression(expr_name='T_dif', expr=T_R-T_K)"
   ]
  },
  {
   "cell_type": "markdown",
   "metadata": {},
   "source": [
    "With the help of the $k_i$-s and $T_{\\text{dif}}$ we can define the ODEs:"
   ]
  },
  {
   "cell_type": "code",
   "execution_count": 8,
   "metadata": {},
   "outputs": [],
   "source": [
    "model.set_rhs('C_a', F*(C_A0 - C_a) -K_1*C_a - K_3*(C_a**2))\n",
    "model.set_rhs('C_b', -F*C_b + K_1*C_a - K_2*C_b)\n",
    "model.set_rhs('T_R', ((K_1*C_a*H_R_ab + K_2*C_b*H_R_bc + K_3*(C_a**2)*H_R_ad)/(-Rou*Cp)) + F*(T_in-T_R) +(((K_w*A_R)*(-T_dif))/(Rou*Cp*V_R)))\n",
    "model.set_rhs('T_K', (Q_dot + K_w*A_R*(T_dif))/(m_k*Cp_k))"
   ]
  },
  {
   "cell_type": "markdown",
   "metadata": {},
   "source": [
    "Finally, the model setup is complete:"
   ]
  },
  {
   "cell_type": "code",
   "execution_count": 9,
   "metadata": {},
   "outputs": [],
   "source": [
    "# Build the model\n",
    "model.setup()"
   ]
  },
  {
   "cell_type": "markdown",
   "metadata": {},
   "source": [
    "## Controller"
   ]
  },
  {
   "cell_type": "markdown",
   "metadata": {},
   "source": [
    "Next, the model predictive controller is configured. This is needed as the approximate MPC is a supervised training approach, where the training data is generated by the MPC. Therefore, the MPC and the model specifies the behavior of the approximate MPC.\n",
    "First, one member of the mpc class is generated with the prediction model defined above:"
   ]
  },
  {
   "cell_type": "code",
   "execution_count": 10,
   "metadata": {},
   "outputs": [],
   "source": [
    "mpc = do_mpc.controller.MPC(model)"
   ]
  },
  {
   "cell_type": "markdown",
   "metadata": {},
   "source": [
    "We choose the prediction horizon `n_horizon`, set the robust horizon `n_robust` to 0.\n",
    "It is possible to use the approximate MPC for robust MPC, but in its current only open-loop sampling can be used as a sampling strategy for the robust MPC.\n",
    "The time step `t_step` is set to 0.005h and parameters of the applied discretization scheme orthogonal collocation are as seen below:"
   ]
  },
  {
   "cell_type": "code",
   "execution_count": 11,
   "metadata": {},
   "outputs": [],
   "source": [
    "# Set settings of MPC:\n",
    "mpc.settings.n_horizon = 20\n",
    "mpc.settings.n_robust = 0\n",
    "mpc.settings.open_loop = 0\n",
    "mpc.settings.t_step = 0.005\n",
    "mpc.settings.state_discretization = 'collocation'\n",
    "mpc.settings.collocation_type = 'radau'\n",
    "mpc.settings.collocation_deg = 2\n",
    "mpc.settings.collocation_ni = 1\n",
    "mpc.settings.store_full_solution = True"
   ]
  },
  {
   "cell_type": "markdown",
   "metadata": {},
   "source": [
    "Because the magnitude of the states and inputs is very different, we introduce scaling factors:"
   ]
  },
  {
   "cell_type": "code",
   "execution_count": 12,
   "metadata": {},
   "outputs": [],
   "source": [
    "mpc.scaling['_x', 'T_R'] = 100\n",
    "mpc.scaling['_x', 'T_K'] = 100\n",
    "mpc.scaling['_u', 'Q_dot'] = 2000\n",
    "mpc.scaling['_u', 'F'] = 100"
   ]
  },
  {
   "cell_type": "markdown",
   "metadata": {},
   "source": [
    "### Objective\n",
    "\n",
    "The goal of the CSTR is to obtain a mixture with a concentration of $C_{\\text{B,ref}} = 0.6$ mol/l.\n",
    "Additionally, we add a penalty on input changes for both control inputs, to obtain a smooth control performance."
   ]
  },
  {
   "cell_type": "code",
   "execution_count": 13,
   "metadata": {},
   "outputs": [],
   "source": [
    "mterm = (model.x['C_b'] - 0.6)**2+(model.x['C_a'] - 0.7)**2\n",
    "lterm = (model.x['C_b'] - 0.6)**2+(model.x['C_a'] - 0.7)**2\n",
    "\n",
    "mpc.set_objective(mterm=mterm, lterm=lterm)\n",
    "\n",
    "mpc.set_rterm(F=0.1, Q_dot = 1e-3)"
   ]
  },
  {
   "cell_type": "markdown",
   "metadata": {},
   "source": [
    "### Constraints\n",
    "\n",
    "In the next step, the constraints of the control problem are set.\n",
    "In this case, there are only upper and lower bounds for each state and the input:"
   ]
  },
  {
   "cell_type": "code",
   "execution_count": 14,
   "metadata": {},
   "outputs": [],
   "source": [
    "# lower bounds of the states\n",
    "mpc.bounds['lower', '_x', 'C_a'] = 0.1\n",
    "mpc.bounds['lower', '_x', 'C_b'] = 0.1\n",
    "mpc.bounds['lower', '_x', 'T_R'] = 50\n",
    "mpc.bounds['lower', '_x', 'T_K'] = 50\n",
    "\n",
    "# upper bounds of the states\n",
    "mpc.bounds['upper', '_x', 'C_a'] = 2\n",
    "mpc.bounds['upper', '_x', 'C_b'] = 2\n",
    "mpc.bounds['upper', '_x', 'T_R'] = 140\n",
    "mpc.bounds['upper', '_x', 'T_K'] = 140\n",
    "\n",
    "# lower bounds of the inputs\n",
    "mpc.bounds['lower', '_u', 'F'] = 5\n",
    "mpc.bounds['lower', '_u', 'Q_dot'] = -8500\n",
    "\n",
    "# upper bounds of the inputs\n",
    "mpc.bounds['upper', '_u', 'F'] = 100\n",
    "mpc.bounds['upper', '_u', 'Q_dot'] = 0.0"
   ]
  },
  {
   "cell_type": "markdown",
   "metadata": {},
   "source": [
    "The setup of the MPC controller is concluded by:"
   ]
  },
  {
   "cell_type": "code",
   "execution_count": 15,
   "metadata": {},
   "outputs": [],
   "source": [
    "mpc.setup()"
   ]
  },
  {
   "cell_type": "markdown",
   "metadata": {},
   "source": [
    "## Estimator\n",
    "\n",
    "We assume, that all states can be directly measured (state-feedback):"
   ]
  },
  {
   "cell_type": "code",
   "execution_count": 16,
   "metadata": {},
   "outputs": [],
   "source": [
    "estimator = do_mpc.estimator.StateFeedback(model)"
   ]
  },
  {
   "cell_type": "markdown",
   "metadata": {},
   "source": [
    "## Simulator\n",
    "\n",
    "To create a simulator to run the approximate MPC in a closed-loop, we create an instance of the **do-mpc** simulator which is based on the same model:"
   ]
  },
  {
   "cell_type": "code",
   "execution_count": 17,
   "metadata": {},
   "outputs": [],
   "source": [
    "simulator = do_mpc.simulator.Simulator(model)"
   ]
  },
  {
   "cell_type": "markdown",
   "metadata": {},
   "source": [
    "For the simulation, we use the same time step `t_step` as for the optimizer:"
   ]
  },
  {
   "cell_type": "code",
   "execution_count": 18,
   "metadata": {},
   "outputs": [],
   "source": [
    "params_simulator = {\n",
    "        'integration_tool': 'cvodes',\n",
    "        'abstol': 1e-10,\n",
    "        'reltol': 1e-10,\n",
    "        't_step': 0.005\n",
    "    }\n",
    "\n",
    "simulator.set_param(**params_simulator)"
   ]
  },
  {
   "cell_type": "markdown",
   "metadata": {},
   "source": [
    "To finish the configuration of the simulator, call:"
   ]
  },
  {
   "cell_type": "code",
   "execution_count": 19,
   "metadata": {},
   "outputs": [],
   "source": [
    "simulator.setup()"
   ]
  },
  {
   "cell_type": "markdown",
   "metadata": {},
   "source": [
    "## Initialization of the MPC and Simulator\n",
    "\n",
    "For the initialization of the MPC configured for the CSTR, we inspect the file **main.py**.\n",
    "We define the initial state of the system and set it for all parts of the closed-loop configuration:"
   ]
  },
  {
   "cell_type": "code",
   "execution_count": 20,
   "metadata": {},
   "outputs": [],
   "source": [
    "# Set the initial state of mpc and simulator:\n",
    "C_a_0 = 0.8 # This is the initial concentration inside the tank [mol/l]\n",
    "C_b_0 = 0.5 # This is the controlled variable [mol/l]\n",
    "T_R_0 = 134.14 #[C]\n",
    "T_K_0 = 130.0 #[C]\n",
    "x0 = np.array([C_a_0, C_b_0, T_R_0, T_K_0]).reshape(-1,1)\n",
    "u0=np.array([[5],[0]])\n",
    "\n",
    "# pushing to class\n",
    "mpc.u0=u0\n",
    "mpc.x0 = x0\n",
    "simulator.x0 = x0\n",
    "mpc.set_initial_guess()\n",
    "simulator.set_initial_guess()"
   ]
  },
  {
   "cell_type": "markdown",
   "metadata": {},
   "source": [
    "## Approximate MPC\n",
    "\n",
    "So far, we have only initialized our model, the MPC and the Simulator, which is like the usage of a MPC for controlling the system. In the next steps we must configure our approximate MPC, the Sampler for generating training data and the Trainer for training the Approximate MPC.\n",
    "These three classes are the main components of the Approximate MPC. As it is standard in do-mpc, each of these classes can be configured using the settings of the respective class. After calling **setup()** the instance of the class is ready to be used.\n",
    "First, the Approximate MPC is configured. One member of the ApproximateMPC class is generated which is initialized with the MPC class defined above:"
   ]
  },
  {
   "cell_type": "code",
   "execution_count": 53,
   "metadata": {},
   "outputs": [],
   "source": [
    "approx_mpc = do_mpc.approximateMPC.ApproxMPC(mpc)"
   ]
  },
  {
   "cell_type": "markdown",
   "metadata": {},
   "source": [
    "Appropriate sizes for number of hidden layers `n_hidden_layers` and number of neurons per layer `n_neurons` are chosen in this example using the settings class. Note that default parameters of each settings parameter are provided.:"
   ]
  },
  {
   "cell_type": "code",
   "execution_count": 54,
   "metadata": {},
   "outputs": [],
   "source": [
    "approx_mpc.settings.n_hidden_layers = 1\n",
    "approx_mpc.settings.n_neurons = 50"
   ]
  },
  {
   "cell_type": "markdown",
   "metadata": {},
   "source": [
    "Other setting parameters for the approximate MPC include the activation function and the device on which the approximate MPC should run. The setup of the Approximate MPC controller is concluded by:"
   ]
  },
  {
   "cell_type": "code",
   "execution_count": 55,
   "metadata": {},
   "outputs": [
    {
     "name": "stdout",
     "output_type": "stream",
     "text": [
      "----------------------------------\n",
      "ApproxMPC(\n",
      "  (net): FeedforwardNN(\n",
      "    (layers): ModuleList(\n",
      "      (0): Linear(in_features=6, out_features=50, bias=True)\n",
      "      (1): Tanh()\n",
      "      (2): Linear(in_features=50, out_features=2, bias=True)\n",
      "    )\n",
      "  )\n",
      ")\n",
      "----------------------------------\n"
     ]
    },
    {
     "name": "stderr",
     "output_type": "stream",
     "text": [
      "C:\\Users\\smjsadam\\Documents\\Job\\Forschung\\Code\\do-mpc_approx_mpc\\venv\\lib\\site-packages\\torch\\utils\\_device.py:104: UserWarning: To copy construct from a tensor, it is recommended to use sourceTensor.clone().detach() or sourceTensor.clone().detach().requires_grad_(True), rather than torch.tensor(sourceTensor).\n",
      "  return func(*args, **kwargs)\n"
     ]
    }
   ],
   "source": [
    "approx_mpc.setup()"
   ]
  },
  {
   "cell_type": "markdown",
   "metadata": {},
   "source": [
    "## Sampler\n",
    "\n",
    "Next, a Sampler is configured. This class is used to generate training data for Approximate MPC.\n",
    "It uses the already established sampling planner of do-mpc, son in case you want to take a deep dive into generating data with do-mpc, you can revisit the respective example. This class also needs to be initialized with the MPC class as it uses the MPC to generate the training data."
   ]
  },
  {
   "cell_type": "code",
   "execution_count": 37,
   "metadata": {},
   "outputs": [],
   "source": [
    "sampler = do_mpc.approximateMPC.AMPCSampler(mpc)"
   ]
  },
  {
   "cell_type": "markdown",
   "metadata": {},
   "source": [
    "Next, the Sampler settings are configured. Currently, we support two sampling approaches, the open-loop standard sampling, where **n_samples** random data is sampled within the bounds of the MPC. The `closed_loop_flag` can be used to use a closed-loop sampling approach where closed loop trajectories of the length **trajectory_length**. Note that now **n_samples*trajectory_length** sampling data points are generated. In fact, in this example we do open loop sampling by setting `trajectory_length=1` but are showing how to use the closed loop sampling method in general. Again, these parameters are set through the settings class."
   ]
  },
  {
   "cell_type": "code",
   "execution_count": 38,
   "metadata": {},
   "outputs": [],
   "source": [
    "sampler.settings.closed_loop_flag = True\n",
    "sampler.settings.trajectory_length = 1\n",
    "sampler.settings.n_samples = 10000"
   ]
  },
  {
   "cell_type": "markdown",
   "metadata": {},
   "source": [
    "The number of samples is a mandatory setting. The other one is the name of the dataset. You can also set the directory in which this dataset is stored which is optional"
   ]
  },
  {
   "cell_type": "code",
   "execution_count": 39,
   "metadata": {},
   "outputs": [],
   "source": [
    "data_dir= './sampling_notebook'\n",
    "sampler.settings.data = data_dir\n",
    "dataset_name = \"my_dataset\"\n",
    "sampler.settings.dataset_name = dataset_name"
   ]
  },
  {
   "cell_type": "markdown",
   "metadata": {},
   "source": [
    "The setup of the Sampler class is concluded by:"
   ]
  },
  {
   "cell_type": "code",
   "execution_count": 40,
   "metadata": {},
   "outputs": [],
   "source": [
    "sampler.setup()"
   ]
  },
  {
   "cell_type": "markdown",
   "metadata": {},
   "source": [
    "The Sampler is now used to generate the sample data on which the ApproximateMPC will be trained further. for this a default sampling plan is used. This iteratively calculates the training data, so depending on `n_samples` and the complexity of the MPC controller, it might take a while. (The output of the MPC is suppressed with the magic command `%%capture`) For this example we have already generated the data"
   ]
  },
  {
   "cell_type": "code",
   "execution_count": 41,
   "metadata": {},
   "outputs": [],
   "source": [
    "%%capture\n",
    "#sampler.default_sampling()"
   ]
  },
  {
   "cell_type": "markdown",
   "metadata": {},
   "source": [
    "## Trainer\n",
    "\n",
    "Next, a Trainer is configured. The Trainer is used to train the approximate MPC on the generated training data. Therefore, the Trainer is initialized with the ApproximateMPC class:"
   ]
  },
  {
   "cell_type": "code",
   "execution_count": 56,
   "metadata": {},
   "outputs": [],
   "source": [
    "trainer = do_mpc.approximateMPC.Trainer(approx_mpc)"
   ]
  },
  {
   "cell_type": "markdown",
   "metadata": {},
   "source": [
    "Next the trainer setting parameters are configured. Make sure to set the right direction for the training data, which is done by setting the `data_dir` and the right name of the dataset.:"
   ]
  },
  {
   "cell_type": "code",
   "execution_count": 57,
   "metadata": {},
   "outputs": [],
   "source": [
    "trainer.settings.data_dir = data_dir\n",
    "trainer.settings.dataset_name = dataset_name"
   ]
  },
  {
   "cell_type": "markdown",
   "metadata": {},
   "source": [
    "We now set the hyper-parameters for the training of the approximate MPC such as `n_epochs`. The Trainer also can use the learning rate scheduler of Pytorch for which the parameters can be set with the `scheduler_settings`. This can improve the training performance when hitting a plateau, by reducing the learning rate, so that the loss does not oscillate around the optimal point."
   ]
  },
  {
   "cell_type": "code",
   "execution_count": 58,
   "metadata": {},
   "outputs": [],
   "source": [
    "trainer.settings.n_epochs = 1000\n",
    "trainer.settings.scheduler_flag = True\n",
    "trainer.scheduler_settings.cooldown = 0\n",
    "trainer.scheduler_settings.patience = 50"
   ]
  },
  {
   "cell_type": "markdown",
   "metadata": {},
   "source": [
    "To display and save the performance of the training, the following flags may be set:"
   ]
  },
  {
   "cell_type": "code",
   "execution_count": 59,
   "metadata": {},
   "outputs": [],
   "source": [
    "trainer.settings.show_fig =True\n",
    "trainer.settings.save_fig = True\n",
    "trainer.settings.save_history = True"
   ]
  },
  {
   "cell_type": "markdown",
   "metadata": {},
   "source": [
    "The location where the samples data is stored is provided with `results_dir`:"
   ]
  },
  {
   "cell_type": "code",
   "execution_count": 60,
   "metadata": {},
   "outputs": [],
   "source": [
    "trainer.settings.results_dir = './training_notebook'"
   ]
  },
  {
   "cell_type": "markdown",
   "metadata": {},
   "source": [
    "Finally, the trainer is setup:"
   ]
  },
  {
   "cell_type": "code",
   "execution_count": 61,
   "metadata": {},
   "outputs": [],
   "source": [
    "trainer.setup()"
   ]
  },
  {
   "cell_type": "markdown",
   "metadata": {},
   "source": [
    "The training process is initiated:"
   ]
  },
  {
   "cell_type": "code",
   "execution_count": 62,
   "metadata": {},
   "outputs": [
    {
     "name": "stdout",
     "output_type": "stream",
     "text": [
      "Path from trainer to sampled files\n",
      " sampling_notebook\\my_dataset\\data_my_dataset_opt.pkl\n",
      "epoch :  9\n",
      "train_loss :  0.007376601065819462\n",
      "val_loss :  0.007226864108815789\n",
      "-------------------------------\n",
      "epoch :  19\n",
      "train_loss :  0.004398096740866701\n",
      "val_loss :  0.0044473588932305574\n",
      "-------------------------------\n",
      "epoch :  29\n",
      "train_loss :  0.004287740060438712\n",
      "val_loss :  0.004649014212191105\n",
      "-------------------------------\n",
      "epoch :  39\n",
      "train_loss :  0.004270521691069007\n",
      "val_loss :  0.005127501906827092\n",
      "-------------------------------\n",
      "epoch :  49\n",
      "train_loss :  0.004271700396202505\n",
      "val_loss :  0.004730510525405407\n",
      "-------------------------------\n",
      "epoch :  59\n",
      "train_loss :  0.004304454390270014\n",
      "val_loss :  0.004495328990742564\n",
      "-------------------------------\n",
      "epoch :  69\n",
      "train_loss :  0.0041738704312592745\n",
      "val_loss :  0.004619996529072523\n",
      "-------------------------------\n",
      "epoch :  79\n",
      "train_loss :  0.004146106114300589\n",
      "val_loss :  0.0041077801724895835\n",
      "-------------------------------\n",
      "epoch :  89\n",
      "train_loss :  0.0041054015746340156\n",
      "val_loss :  0.0043336693197488785\n",
      "-------------------------------\n",
      "epoch :  99\n",
      "train_loss :  0.004128718748688698\n",
      "val_loss :  0.0049563441425561905\n",
      "-------------------------------\n",
      "epoch :  109\n",
      "train_loss :  0.004128546686843038\n",
      "val_loss :  0.004766607191413641\n",
      "-------------------------------\n",
      "epoch :  119\n",
      "train_loss :  0.003974605390491585\n",
      "val_loss :  0.004738045507110655\n",
      "-------------------------------\n",
      "epoch :  129\n",
      "train_loss :  0.003989282374580701\n",
      "val_loss :  0.004251682665199041\n",
      "-------------------------------\n",
      "epoch :  139\n",
      "train_loss :  0.004047928222765525\n",
      "val_loss :  0.003977477899752557\n",
      "-------------------------------\n",
      "epoch :  149\n",
      "train_loss :  0.003981679173496862\n",
      "val_loss :  0.003989466233178973\n",
      "-------------------------------\n",
      "epoch :  159\n",
      "train_loss :  0.003999895610225697\n",
      "val_loss :  0.004397270269691944\n",
      "-------------------------------\n",
      "epoch :  169\n",
      "train_loss :  0.004004141509843369\n",
      "val_loss :  0.004114917595870793\n",
      "-------------------------------\n",
      "epoch :  179\n",
      "train_loss :  0.003913567129833003\n",
      "val_loss :  0.004088235204108059\n",
      "-------------------------------\n",
      "epoch :  189\n",
      "train_loss :  0.003933309849041204\n",
      "val_loss :  0.004282809793949127\n",
      "-------------------------------\n",
      "epoch :  199\n",
      "train_loss :  0.0039747274325539666\n",
      "val_loss :  0.004663331899791956\n",
      "-------------------------------\n",
      "epoch :  209\n",
      "train_loss :  0.004021165543235838\n",
      "val_loss :  0.004281352972611785\n",
      "-------------------------------\n",
      "epoch :  219\n",
      "train_loss :  0.003958118652614455\n",
      "val_loss :  0.0039034246001392603\n",
      "-------------------------------\n",
      "epoch :  229\n",
      "train_loss :  0.003937499209617575\n",
      "val_loss :  0.004695544019341469\n",
      "-------------------------------\n",
      "epoch :  239\n",
      "train_loss :  0.0039143932129566865\n",
      "val_loss :  0.004086853354237974\n",
      "-------------------------------\n",
      "epoch :  249\n",
      "train_loss :  0.003938094712793827\n",
      "val_loss :  0.003995144506916404\n",
      "-------------------------------\n",
      "epoch :  259\n",
      "train_loss :  0.0039020783345525465\n",
      "val_loss :  0.003981929272413254\n",
      "-------------------------------\n",
      "epoch :  269\n",
      "train_loss :  0.0039362281483287615\n",
      "val_loss :  0.0038237690459936857\n",
      "-------------------------------\n",
      "epoch :  279\n",
      "train_loss :  0.004007713054306805\n",
      "val_loss :  0.004459596471861005\n",
      "-------------------------------\n",
      "epoch :  289\n",
      "train_loss :  0.003951280533025662\n",
      "val_loss :  0.004273655824363232\n",
      "-------------------------------\n",
      "epoch :  299\n",
      "train_loss :  0.003941636299714446\n",
      "val_loss :  0.004347125068306923\n",
      "-------------------------------\n",
      "epoch :  309\n",
      "train_loss :  0.003935248396980266\n",
      "val_loss :  0.004333183402195573\n",
      "-------------------------------\n",
      "epoch :  319\n",
      "train_loss :  0.003952416009269655\n",
      "val_loss :  0.0039672458078712225\n",
      "-------------------------------\n",
      "epoch :  329\n",
      "train_loss :  0.003989462779524426\n",
      "val_loss :  0.004017063998617232\n",
      "-------------------------------\n",
      "epoch :  339\n",
      "train_loss :  0.004002386316036184\n",
      "val_loss :  0.004760652664117515\n",
      "-------------------------------\n",
      "epoch :  349\n",
      "train_loss :  0.003972113287697236\n",
      "val_loss :  0.004159625852480531\n",
      "-------------------------------\n",
      "epoch :  359\n",
      "train_loss :  0.004026256501674652\n",
      "val_loss :  0.004238687921315432\n",
      "-------------------------------\n",
      "epoch :  369\n",
      "train_loss :  0.0039782210951671\n",
      "val_loss :  0.004662011517211795\n",
      "-------------------------------\n",
      "epoch :  379\n",
      "train_loss :  0.003969468331585328\n",
      "val_loss :  0.003924764110706747\n",
      "-------------------------------\n",
      "epoch :  389\n",
      "train_loss :  0.003969460221317907\n",
      "val_loss :  0.004248522687703371\n",
      "-------------------------------\n",
      "epoch :  399\n",
      "train_loss :  0.003925619646906853\n",
      "val_loss :  0.004216797649860382\n",
      "-------------------------------\n",
      "epoch :  409\n",
      "train_loss :  0.003910360236962636\n",
      "val_loss :  0.004422646947205067\n",
      "-------------------------------\n",
      "epoch :  419\n",
      "train_loss :  0.003978767277052005\n",
      "val_loss :  0.004053779528476298\n",
      "-------------------------------\n",
      "epoch :  429\n",
      "train_loss :  0.00399107326908658\n",
      "val_loss :  0.004209159407764673\n",
      "-------------------------------\n",
      "epoch :  439\n",
      "train_loss :  0.003905013514061769\n",
      "val_loss :  0.004044066183269024\n",
      "-------------------------------\n",
      "epoch :  449\n",
      "train_loss :  0.004017102609698971\n",
      "val_loss :  0.0036103627644479275\n",
      "-------------------------------\n",
      "epoch :  459\n",
      "train_loss :  0.003993031724045674\n",
      "val_loss :  0.00386841909494251\n",
      "-------------------------------\n"
     ]
    },
    {
     "data": {
      "text/plain": "<Figure size 800x600 with 2 Axes>",
      "image/png": "[encoded data removed]"
     },
     "metadata": {},
     "output_type": "display_data"
    }
   ],
   "source": [
    "torch.manual_seed(42)\n",
    "trainer.default_training()"
   ]
  },
  {
   "cell_type": "markdown",
   "metadata": {},
   "source": [
    "# Closed loop simulation\n",
    "\n",
    "Now all we are ready for simulating the system with the newly trained approximate MPC controller, for 50 steps. As for the MPC the `make_step` function of the approximate MPC is used where instead of solving an optimization problem the pre-trained neural network is evaluated. It is possible to clip the control inputs to the bounds of the MPC controller with the flag `clip_to_bounds=True`.\n",
    "\n",
    "When `clip_to_bounds=True`, the inputs are forced to be within the set upper boundary and the set lower boundary, ensuring that no matter what, the inputs are within permissible bounds."
   ]
  },
  {
   "cell_type": "code",
   "execution_count": 63,
   "metadata": {},
   "outputs": [],
   "source": [
    "sim_time = 100\n",
    "approx_mpc.u0=u0\n",
    "for k in range(sim_time):\n",
    "    u0 = approx_mpc.make_step(x0, clip_to_bounds=True)\n",
    "    y_next = simulator.make_step(u0)\n",
    "    x0 = estimator.make_step(y_next)"
   ]
  },
  {
   "cell_type": "markdown",
   "metadata": {},
   "source": [
    "## Visualization\n",
    "\n",
    "To animate the results, we first configure the **do-mpc** graphics object, which is initiated with the respective data object:\n",
    "\n",
    "Here we use `simulator.data`, since the simulator consists of the class which stores the data which can be extracted. As a contrast, the data from the mpc class cannot be used, since in the main simulation loop, mpc class is not used."
   ]
  },
  {
   "cell_type": "code",
   "execution_count": 64,
   "metadata": {},
   "outputs": [],
   "source": [
    "sim_graphics = do_mpc.graphics.Graphics(simulator.data)"
   ]
  },
  {
   "cell_type": "markdown",
   "metadata": {},
   "source": [
    "We then create a figure, configure which lines to plot on which axis and add labels."
   ]
  },
  {
   "cell_type": "code",
   "execution_count": 65,
   "metadata": {},
   "outputs": [
    {
     "data": {
      "text/plain": "Text(0.5, 0, 'time [h]')"
     },
     "execution_count": 65,
     "metadata": {},
     "output_type": "execute_result"
    },
    {
     "data": {
      "text/plain": "<Figure size 1600x1200 with 5 Axes>",
      "image/png": "[encoded data removed]"
     },
     "metadata": {},
     "output_type": "display_data"
    }
   ],
   "source": [
    "import matplotlib.pyplot as plt\n",
    "\n",
    "fig, ax = plt.subplots(5, sharex=True, figsize=(16,12))\n",
    "# Configure plot:\n",
    "sim_graphics.add_line(var_type='_x', var_name='C_a', axis=ax[0])\n",
    "sim_graphics.add_line(var_type='_x', var_name='C_b', axis=ax[0])\n",
    "sim_graphics.add_line(var_type='_x', var_name='T_R', axis=ax[1])\n",
    "sim_graphics.add_line(var_type='_x', var_name='T_K', axis=ax[1])\n",
    "sim_graphics.add_line(var_type='_aux', var_name='T_dif', axis=ax[2])\n",
    "sim_graphics.add_line(var_type='_u', var_name='Q_dot', axis=ax[3])\n",
    "sim_graphics.add_line(var_type='_u', var_name='F', axis=ax[4])\n",
    "ax[0].set_ylabel('c [mol/l]')\n",
    "ax[1].set_ylabel('T [K]')\n",
    "ax[2].set_ylabel('$\\Delta$ T [K]')\n",
    "ax[3].set_ylabel('Q [kW]')\n",
    "ax[4].set_ylabel('Flow [l/h]')\n",
    "ax[4].set_xlabel('time [h]')"
   ]
  },
  {
   "cell_type": "markdown",
   "metadata": {},
   "source": [
    "Some \"cosmetic\" modifications are easily achieved with the structure `result_lines`."
   ]
  },
  {
   "cell_type": "code",
   "execution_count": 66,
   "metadata": {},
   "outputs": [
    {
     "name": "stderr",
     "output_type": "stream",
     "text": [
      "C:\\Users\\smjsadam\\Documents\\Job\\Forschung\\Code\\do-mpc_approx_mpc\\venv\\lib\\site-packages\\matplotlib\\animation.py:1725: UserWarning: Can not start iterating the frames for the initial draw. This can be caused by passing in a 0 length sequence for *frames*.\n",
      "\n",
      "If you passed *frames* as a generator it may be exhausted due to a previous display or save.\n",
      "  warnings.warn(\n",
      "C:\\Users\\smjsadam\\Documents\\Job\\Forschung\\Code\\do-mpc_approx_mpc\\venv\\lib\\site-packages\\matplotlib\\animation.py:1725: UserWarning: Can not start iterating the frames for the initial draw. This can be caused by passing in a 0 length sequence for *frames*.\n",
      "\n",
      "If you passed *frames* as a generator it may be exhausted due to a previous display or save.\n",
      "  warnings.warn(\n",
      "MovieWriter stderr:\n",
      "magick.exe: unexpected end-of-file '-': No such file or directory @ error/rgb.c/ReadRGBImage/249.\n",
      "\n"
     ]
    },
    {
     "ename": "CalledProcessError",
     "evalue": "Command '['C:\\\\Program Files\\\\ImageMagick-7.1.1-Q16-HDRI\\\\magick.exe', '-size', '1600x1200', '-depth', '8', '-delay', '20.0', '-loop', '0', 'rgba:-', '-layers', 'OptimizePlus', 'anim_CSTR.gif']' returned non-zero exit status 1.",
     "output_type": "error",
     "traceback": [
      "\u001B[1;31m---------------------------------------------------------------------------\u001B[0m",
      "\u001B[1;31mCalledProcessError\u001B[0m                        Traceback (most recent call last)",
      "Cell \u001B[1;32mIn[66], line 22\u001B[0m\n\u001B[0;32m     19\u001B[0m anim \u001B[38;5;241m=\u001B[39m FuncAnimation(fig, update, frames\u001B[38;5;241m=\u001B[39mn_steps, blit\u001B[38;5;241m=\u001B[39m\u001B[38;5;28;01mTrue\u001B[39;00m)\n\u001B[0;32m     21\u001B[0m gif_writer \u001B[38;5;241m=\u001B[39m ImageMagickWriter(fps\u001B[38;5;241m=\u001B[39m\u001B[38;5;241m5\u001B[39m)\n\u001B[1;32m---> 22\u001B[0m \u001B[43manim\u001B[49m\u001B[38;5;241;43m.\u001B[39;49m\u001B[43msave\u001B[49m\u001B[43m(\u001B[49m\u001B[38;5;124;43m'\u001B[39;49m\u001B[38;5;124;43manim_CSTR.gif\u001B[39;49m\u001B[38;5;124;43m'\u001B[39;49m\u001B[43m,\u001B[49m\u001B[43m \u001B[49m\u001B[43mwriter\u001B[49m\u001B[38;5;241;43m=\u001B[39;49m\u001B[43mgif_writer\u001B[49m\u001B[43m)\u001B[49m\n",
      "File \u001B[1;32m~\\Documents\\Job\\Forschung\\Code\\do-mpc_approx_mpc\\venv\\lib\\site-packages\\matplotlib\\animation.py:1089\u001B[0m, in \u001B[0;36mAnimation.save\u001B[1;34m(self, filename, writer, fps, dpi, codec, bitrate, extra_args, metadata, extra_anim, savefig_kwargs, progress_callback)\u001B[0m\n\u001B[0;32m   1087\u001B[0m         progress_callback(frame_number, total_frames)\n\u001B[0;32m   1088\u001B[0m         frame_number \u001B[38;5;241m+\u001B[39m\u001B[38;5;241m=\u001B[39m \u001B[38;5;241m1\u001B[39m\n\u001B[1;32m-> 1089\u001B[0m writer\u001B[38;5;241m.\u001B[39mgrab_frame(\u001B[38;5;241m*\u001B[39m\u001B[38;5;241m*\u001B[39msavefig_kwargs)\n",
      "File \u001B[1;32mC:\\Program Files\\WindowsApps\\PythonSoftwareFoundation.Python.3.9_3.9.3568.0_x64__qbz5n2kfra8p0\\lib\\contextlib.py:126\u001B[0m, in \u001B[0;36m_GeneratorContextManager.__exit__\u001B[1;34m(self, typ, value, traceback)\u001B[0m\n\u001B[0;32m    124\u001B[0m \u001B[38;5;28;01mif\u001B[39;00m typ \u001B[38;5;129;01mis\u001B[39;00m \u001B[38;5;28;01mNone\u001B[39;00m:\n\u001B[0;32m    125\u001B[0m     \u001B[38;5;28;01mtry\u001B[39;00m:\n\u001B[1;32m--> 126\u001B[0m         \u001B[38;5;28;43mnext\u001B[39;49m\u001B[43m(\u001B[49m\u001B[38;5;28;43mself\u001B[39;49m\u001B[38;5;241;43m.\u001B[39;49m\u001B[43mgen\u001B[49m\u001B[43m)\u001B[49m\n\u001B[0;32m    127\u001B[0m     \u001B[38;5;28;01mexcept\u001B[39;00m \u001B[38;5;167;01mStopIteration\u001B[39;00m:\n\u001B[0;32m    128\u001B[0m         \u001B[38;5;28;01mreturn\u001B[39;00m \u001B[38;5;28;01mFalse\u001B[39;00m\n",
      "File \u001B[1;32m~\\Documents\\Job\\Forschung\\Code\\do-mpc_approx_mpc\\venv\\lib\\site-packages\\matplotlib\\animation.py:225\u001B[0m, in \u001B[0;36mAbstractMovieWriter.saving\u001B[1;34m(self, fig, outfile, dpi, *args, **kwargs)\u001B[0m\n\u001B[0;32m    223\u001B[0m     \u001B[38;5;28;01myield\u001B[39;00m \u001B[38;5;28mself\u001B[39m\n\u001B[0;32m    224\u001B[0m \u001B[38;5;28;01mfinally\u001B[39;00m:\n\u001B[1;32m--> 225\u001B[0m     \u001B[38;5;28;43mself\u001B[39;49m\u001B[38;5;241;43m.\u001B[39;49m\u001B[43mfinish\u001B[49m\u001B[43m(\u001B[49m\u001B[43m)\u001B[49m\n",
      "File \u001B[1;32m~\\Documents\\Job\\Forschung\\Code\\do-mpc_approx_mpc\\venv\\lib\\site-packages\\matplotlib\\animation.py:340\u001B[0m, in \u001B[0;36mMovieWriter.finish\u001B[1;34m(self)\u001B[0m\n\u001B[0;32m    336\u001B[0m     _log\u001B[38;5;241m.\u001B[39mlog(\n\u001B[0;32m    337\u001B[0m         logging\u001B[38;5;241m.\u001B[39mWARNING \u001B[38;5;28;01mif\u001B[39;00m \u001B[38;5;28mself\u001B[39m\u001B[38;5;241m.\u001B[39m_proc\u001B[38;5;241m.\u001B[39mreturncode \u001B[38;5;28;01melse\u001B[39;00m logging\u001B[38;5;241m.\u001B[39mDEBUG,\n\u001B[0;32m    338\u001B[0m         \u001B[38;5;124m\"\u001B[39m\u001B[38;5;124mMovieWriter stderr:\u001B[39m\u001B[38;5;130;01m\\n\u001B[39;00m\u001B[38;5;132;01m%s\u001B[39;00m\u001B[38;5;124m\"\u001B[39m, err)\n\u001B[0;32m    339\u001B[0m \u001B[38;5;28;01mif\u001B[39;00m \u001B[38;5;28mself\u001B[39m\u001B[38;5;241m.\u001B[39m_proc\u001B[38;5;241m.\u001B[39mreturncode:\n\u001B[1;32m--> 340\u001B[0m     \u001B[38;5;28;01mraise\u001B[39;00m subprocess\u001B[38;5;241m.\u001B[39mCalledProcessError(\n\u001B[0;32m    341\u001B[0m         \u001B[38;5;28mself\u001B[39m\u001B[38;5;241m.\u001B[39m_proc\u001B[38;5;241m.\u001B[39mreturncode, \u001B[38;5;28mself\u001B[39m\u001B[38;5;241m.\u001B[39m_proc\u001B[38;5;241m.\u001B[39margs, out, err)\n",
      "\u001B[1;31mCalledProcessError\u001B[0m: Command '['C:\\\\Program Files\\\\ImageMagick-7.1.1-Q16-HDRI\\\\magick.exe', '-size', '1600x1200', '-depth', '8', '-delay', '20.0', '-loop', '0', 'rgba:-', '-layers', 'OptimizePlus', 'anim_CSTR.gif']' returned non-zero exit status 1."
     ]
    }
   ],
   "source": [
    "# Add labels\n",
    "label_lines = sim_graphics.result_lines['_x', 'C_a']+sim_graphics.result_lines['_x', 'C_b']\n",
    "ax[0].legend(label_lines, ['C_a', 'C_b'])\n",
    "label_lines = sim_graphics.result_lines['_x', 'T_R']+sim_graphics.result_lines['_x', 'T_K']\n",
    "ax[1].legend(label_lines, ['T_R', 'T_K'])\n",
    "\n",
    "from matplotlib.animation import FuncAnimation, ImageMagickWriter\n",
    "def update(t_ind):\n",
    "    print('Writing frame: {}.'.format(t_ind), end='\\r')\n",
    "    sim_graphics.plot_results(t_ind=t_ind)\n",
    "    sim_graphics.plot_predictions(t_ind=t_ind)\n",
    "    sim_graphics.reset_axes()\n",
    "    lines = sim_graphics.result_lines.full\n",
    "    return lines\n",
    "\n",
    "n_steps = mpc.data['_time'].shape[0]\n",
    "\n",
    "fig.align_ylabels()\n",
    "anim = FuncAnimation(fig, update, frames=n_steps, blit=True)\n",
    "\n",
    "gif_writer = ImageMagickWriter(fps=5)\n",
    "anim.save('anim_CSTR.gif', writer=gif_writer)"
   ]
  },
  {
   "cell_type": "markdown",
   "metadata": {},
   "source": [
    "![cstranim](anim_appxCSTR_nb.gif \"cstr\")"
   ]
  }
 ],
 "metadata": {
  "kernelspec": {
   "display_name": "appx_mpc",
   "language": "python",
   "name": "python3"
  },
  "language_info": {
   "codemirror_mode": {
    "name": "ipython",
    "version": 3
   },
   "file_extension": ".py",
   "mimetype": "text/x-python",
   "name": "python",
   "nbconvert_exporter": "python",
   "pygments_lexer": "ipython3",
   "version": "3.11.10"
  }
 },
 "nbformat": 4,
 "nbformat_minor": 2
}
